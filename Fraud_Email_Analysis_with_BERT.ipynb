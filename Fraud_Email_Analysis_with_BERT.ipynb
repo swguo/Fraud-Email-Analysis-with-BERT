{
  "nbformat": 4,
  "nbformat_minor": 0,
  "metadata": {
    "colab": {
      "name": "Fraud Email Analysis with BERT.ipynb",
      "provenance": [],
      "collapsed_sections": [],
      "authorship_tag": "ABX9TyNSZ9Ze6a4CaSTTP0OY7f6I",
      "include_colab_link": true
    },
    "kernelspec": {
      "name": "python3",
      "display_name": "Python 3"
    },
    "accelerator": "GPU",
    "widgets": {
      "application/vnd.jupyter.widget-state+json": {
        "cd8881dd45b94613bfd5002815282e30": {
          "model_module": "@jupyter-widgets/controls",
          "model_name": "HBoxModel",
          "state": {
            "_view_name": "HBoxView",
            "_dom_classes": [],
            "_model_name": "HBoxModel",
            "_view_module": "@jupyter-widgets/controls",
            "_model_module_version": "1.5.0",
            "_view_count": null,
            "_view_module_version": "1.5.0",
            "box_style": "",
            "layout": "IPY_MODEL_1e8c2e90d491491f8571e015f86317cf",
            "_model_module": "@jupyter-widgets/controls",
            "children": [
              "IPY_MODEL_2563723a212d4327a8d5c9274a4358c5",
              "IPY_MODEL_22c961275c214a1d913da98e4ddc7fe7"
            ]
          }
        },
        "1e8c2e90d491491f8571e015f86317cf": {
          "model_module": "@jupyter-widgets/base",
          "model_name": "LayoutModel",
          "state": {
            "_view_name": "LayoutView",
            "grid_template_rows": null,
            "right": null,
            "justify_content": null,
            "_view_module": "@jupyter-widgets/base",
            "overflow": null,
            "_model_module_version": "1.2.0",
            "_view_count": null,
            "flex_flow": null,
            "width": null,
            "min_width": null,
            "border": null,
            "align_items": null,
            "bottom": null,
            "_model_module": "@jupyter-widgets/base",
            "top": null,
            "grid_column": null,
            "overflow_y": null,
            "overflow_x": null,
            "grid_auto_flow": null,
            "grid_area": null,
            "grid_template_columns": null,
            "flex": null,
            "_model_name": "LayoutModel",
            "justify_items": null,
            "grid_row": null,
            "max_height": null,
            "align_content": null,
            "visibility": null,
            "align_self": null,
            "height": null,
            "min_height": null,
            "padding": null,
            "grid_auto_rows": null,
            "grid_gap": null,
            "max_width": null,
            "order": null,
            "_view_module_version": "1.2.0",
            "grid_template_areas": null,
            "object_position": null,
            "object_fit": null,
            "grid_auto_columns": null,
            "margin": null,
            "display": null,
            "left": null
          }
        },
        "2563723a212d4327a8d5c9274a4358c5": {
          "model_module": "@jupyter-widgets/controls",
          "model_name": "FloatProgressModel",
          "state": {
            "_view_name": "ProgressView",
            "style": "IPY_MODEL_6993d50820644be4818784bc69d87e4b",
            "_dom_classes": [],
            "description": "Downloading: 100%",
            "_model_name": "FloatProgressModel",
            "bar_style": "success",
            "max": 213450,
            "_view_module": "@jupyter-widgets/controls",
            "_model_module_version": "1.5.0",
            "value": 213450,
            "_view_count": null,
            "_view_module_version": "1.5.0",
            "orientation": "horizontal",
            "min": 0,
            "description_tooltip": null,
            "_model_module": "@jupyter-widgets/controls",
            "layout": "IPY_MODEL_e06b7d10c0804bcca4a9d20974c08c49"
          }
        },
        "22c961275c214a1d913da98e4ddc7fe7": {
          "model_module": "@jupyter-widgets/controls",
          "model_name": "HTMLModel",
          "state": {
            "_view_name": "HTMLView",
            "style": "IPY_MODEL_15b061c365e244d196658fddbdb9ca45",
            "_dom_classes": [],
            "description": "",
            "_model_name": "HTMLModel",
            "placeholder": "​",
            "_view_module": "@jupyter-widgets/controls",
            "_model_module_version": "1.5.0",
            "value": " 213k/213k [00:00&lt;00:00, 3.04MB/s]",
            "_view_count": null,
            "_view_module_version": "1.5.0",
            "description_tooltip": null,
            "_model_module": "@jupyter-widgets/controls",
            "layout": "IPY_MODEL_37f8379afdcd43b29cc7e6657a24fa52"
          }
        },
        "6993d50820644be4818784bc69d87e4b": {
          "model_module": "@jupyter-widgets/controls",
          "model_name": "ProgressStyleModel",
          "state": {
            "_view_name": "StyleView",
            "_model_name": "ProgressStyleModel",
            "description_width": "initial",
            "_view_module": "@jupyter-widgets/base",
            "_model_module_version": "1.5.0",
            "_view_count": null,
            "_view_module_version": "1.2.0",
            "bar_color": null,
            "_model_module": "@jupyter-widgets/controls"
          }
        },
        "e06b7d10c0804bcca4a9d20974c08c49": {
          "model_module": "@jupyter-widgets/base",
          "model_name": "LayoutModel",
          "state": {
            "_view_name": "LayoutView",
            "grid_template_rows": null,
            "right": null,
            "justify_content": null,
            "_view_module": "@jupyter-widgets/base",
            "overflow": null,
            "_model_module_version": "1.2.0",
            "_view_count": null,
            "flex_flow": null,
            "width": null,
            "min_width": null,
            "border": null,
            "align_items": null,
            "bottom": null,
            "_model_module": "@jupyter-widgets/base",
            "top": null,
            "grid_column": null,
            "overflow_y": null,
            "overflow_x": null,
            "grid_auto_flow": null,
            "grid_area": null,
            "grid_template_columns": null,
            "flex": null,
            "_model_name": "LayoutModel",
            "justify_items": null,
            "grid_row": null,
            "max_height": null,
            "align_content": null,
            "visibility": null,
            "align_self": null,
            "height": null,
            "min_height": null,
            "padding": null,
            "grid_auto_rows": null,
            "grid_gap": null,
            "max_width": null,
            "order": null,
            "_view_module_version": "1.2.0",
            "grid_template_areas": null,
            "object_position": null,
            "object_fit": null,
            "grid_auto_columns": null,
            "margin": null,
            "display": null,
            "left": null
          }
        },
        "15b061c365e244d196658fddbdb9ca45": {
          "model_module": "@jupyter-widgets/controls",
          "model_name": "DescriptionStyleModel",
          "state": {
            "_view_name": "StyleView",
            "_model_name": "DescriptionStyleModel",
            "description_width": "",
            "_view_module": "@jupyter-widgets/base",
            "_model_module_version": "1.5.0",
            "_view_count": null,
            "_view_module_version": "1.2.0",
            "_model_module": "@jupyter-widgets/controls"
          }
        },
        "37f8379afdcd43b29cc7e6657a24fa52": {
          "model_module": "@jupyter-widgets/base",
          "model_name": "LayoutModel",
          "state": {
            "_view_name": "LayoutView",
            "grid_template_rows": null,
            "right": null,
            "justify_content": null,
            "_view_module": "@jupyter-widgets/base",
            "overflow": null,
            "_model_module_version": "1.2.0",
            "_view_count": null,
            "flex_flow": null,
            "width": null,
            "min_width": null,
            "border": null,
            "align_items": null,
            "bottom": null,
            "_model_module": "@jupyter-widgets/base",
            "top": null,
            "grid_column": null,
            "overflow_y": null,
            "overflow_x": null,
            "grid_auto_flow": null,
            "grid_area": null,
            "grid_template_columns": null,
            "flex": null,
            "_model_name": "LayoutModel",
            "justify_items": null,
            "grid_row": null,
            "max_height": null,
            "align_content": null,
            "visibility": null,
            "align_self": null,
            "height": null,
            "min_height": null,
            "padding": null,
            "grid_auto_rows": null,
            "grid_gap": null,
            "max_width": null,
            "order": null,
            "_view_module_version": "1.2.0",
            "grid_template_areas": null,
            "object_position": null,
            "object_fit": null,
            "grid_auto_columns": null,
            "margin": null,
            "display": null,
            "left": null
          }
        },
        "ace88808d54247299d6d8d54c80db01c": {
          "model_module": "@jupyter-widgets/controls",
          "model_name": "HBoxModel",
          "state": {
            "_view_name": "HBoxView",
            "_dom_classes": [],
            "_model_name": "HBoxModel",
            "_view_module": "@jupyter-widgets/controls",
            "_model_module_version": "1.5.0",
            "_view_count": null,
            "_view_module_version": "1.5.0",
            "box_style": "",
            "layout": "IPY_MODEL_11be9927353945739d5ba91f04345b4a",
            "_model_module": "@jupyter-widgets/controls",
            "children": [
              "IPY_MODEL_f041819f6a394e468c7186b02fc5012d",
              "IPY_MODEL_67ddf0b524a84cd680327395947cd0fe"
            ]
          }
        },
        "11be9927353945739d5ba91f04345b4a": {
          "model_module": "@jupyter-widgets/base",
          "model_name": "LayoutModel",
          "state": {
            "_view_name": "LayoutView",
            "grid_template_rows": null,
            "right": null,
            "justify_content": null,
            "_view_module": "@jupyter-widgets/base",
            "overflow": null,
            "_model_module_version": "1.2.0",
            "_view_count": null,
            "flex_flow": null,
            "width": null,
            "min_width": null,
            "border": null,
            "align_items": null,
            "bottom": null,
            "_model_module": "@jupyter-widgets/base",
            "top": null,
            "grid_column": null,
            "overflow_y": null,
            "overflow_x": null,
            "grid_auto_flow": null,
            "grid_area": null,
            "grid_template_columns": null,
            "flex": null,
            "_model_name": "LayoutModel",
            "justify_items": null,
            "grid_row": null,
            "max_height": null,
            "align_content": null,
            "visibility": null,
            "align_self": null,
            "height": null,
            "min_height": null,
            "padding": null,
            "grid_auto_rows": null,
            "grid_gap": null,
            "max_width": null,
            "order": null,
            "_view_module_version": "1.2.0",
            "grid_template_areas": null,
            "object_position": null,
            "object_fit": null,
            "grid_auto_columns": null,
            "margin": null,
            "display": null,
            "left": null
          }
        },
        "f041819f6a394e468c7186b02fc5012d": {
          "model_module": "@jupyter-widgets/controls",
          "model_name": "FloatProgressModel",
          "state": {
            "_view_name": "ProgressView",
            "style": "IPY_MODEL_aaa9778a3ae04490b02afc3135b0a5de",
            "_dom_classes": [],
            "description": "Downloading: 100%",
            "_model_name": "FloatProgressModel",
            "bar_style": "success",
            "max": 433,
            "_view_module": "@jupyter-widgets/controls",
            "_model_module_version": "1.5.0",
            "value": 433,
            "_view_count": null,
            "_view_module_version": "1.5.0",
            "orientation": "horizontal",
            "min": 0,
            "description_tooltip": null,
            "_model_module": "@jupyter-widgets/controls",
            "layout": "IPY_MODEL_dc91d2124c52457194fe2e66cb5bf804"
          }
        },
        "67ddf0b524a84cd680327395947cd0fe": {
          "model_module": "@jupyter-widgets/controls",
          "model_name": "HTMLModel",
          "state": {
            "_view_name": "HTMLView",
            "style": "IPY_MODEL_df1915b5659340a8b8ff7b42de73f9e9",
            "_dom_classes": [],
            "description": "",
            "_model_name": "HTMLModel",
            "placeholder": "​",
            "_view_module": "@jupyter-widgets/controls",
            "_model_module_version": "1.5.0",
            "value": " 433/433 [00:00&lt;00:00, 549B/s]",
            "_view_count": null,
            "_view_module_version": "1.5.0",
            "description_tooltip": null,
            "_model_module": "@jupyter-widgets/controls",
            "layout": "IPY_MODEL_9762dffab95d4e11ba71aaa8d6bf6e53"
          }
        },
        "aaa9778a3ae04490b02afc3135b0a5de": {
          "model_module": "@jupyter-widgets/controls",
          "model_name": "ProgressStyleModel",
          "state": {
            "_view_name": "StyleView",
            "_model_name": "ProgressStyleModel",
            "description_width": "initial",
            "_view_module": "@jupyter-widgets/base",
            "_model_module_version": "1.5.0",
            "_view_count": null,
            "_view_module_version": "1.2.0",
            "bar_color": null,
            "_model_module": "@jupyter-widgets/controls"
          }
        },
        "dc91d2124c52457194fe2e66cb5bf804": {
          "model_module": "@jupyter-widgets/base",
          "model_name": "LayoutModel",
          "state": {
            "_view_name": "LayoutView",
            "grid_template_rows": null,
            "right": null,
            "justify_content": null,
            "_view_module": "@jupyter-widgets/base",
            "overflow": null,
            "_model_module_version": "1.2.0",
            "_view_count": null,
            "flex_flow": null,
            "width": null,
            "min_width": null,
            "border": null,
            "align_items": null,
            "bottom": null,
            "_model_module": "@jupyter-widgets/base",
            "top": null,
            "grid_column": null,
            "overflow_y": null,
            "overflow_x": null,
            "grid_auto_flow": null,
            "grid_area": null,
            "grid_template_columns": null,
            "flex": null,
            "_model_name": "LayoutModel",
            "justify_items": null,
            "grid_row": null,
            "max_height": null,
            "align_content": null,
            "visibility": null,
            "align_self": null,
            "height": null,
            "min_height": null,
            "padding": null,
            "grid_auto_rows": null,
            "grid_gap": null,
            "max_width": null,
            "order": null,
            "_view_module_version": "1.2.0",
            "grid_template_areas": null,
            "object_position": null,
            "object_fit": null,
            "grid_auto_columns": null,
            "margin": null,
            "display": null,
            "left": null
          }
        },
        "df1915b5659340a8b8ff7b42de73f9e9": {
          "model_module": "@jupyter-widgets/controls",
          "model_name": "DescriptionStyleModel",
          "state": {
            "_view_name": "StyleView",
            "_model_name": "DescriptionStyleModel",
            "description_width": "",
            "_view_module": "@jupyter-widgets/base",
            "_model_module_version": "1.5.0",
            "_view_count": null,
            "_view_module_version": "1.2.0",
            "_model_module": "@jupyter-widgets/controls"
          }
        },
        "9762dffab95d4e11ba71aaa8d6bf6e53": {
          "model_module": "@jupyter-widgets/base",
          "model_name": "LayoutModel",
          "state": {
            "_view_name": "LayoutView",
            "grid_template_rows": null,
            "right": null,
            "justify_content": null,
            "_view_module": "@jupyter-widgets/base",
            "overflow": null,
            "_model_module_version": "1.2.0",
            "_view_count": null,
            "flex_flow": null,
            "width": null,
            "min_width": null,
            "border": null,
            "align_items": null,
            "bottom": null,
            "_model_module": "@jupyter-widgets/base",
            "top": null,
            "grid_column": null,
            "overflow_y": null,
            "overflow_x": null,
            "grid_auto_flow": null,
            "grid_area": null,
            "grid_template_columns": null,
            "flex": null,
            "_model_name": "LayoutModel",
            "justify_items": null,
            "grid_row": null,
            "max_height": null,
            "align_content": null,
            "visibility": null,
            "align_self": null,
            "height": null,
            "min_height": null,
            "padding": null,
            "grid_auto_rows": null,
            "grid_gap": null,
            "max_width": null,
            "order": null,
            "_view_module_version": "1.2.0",
            "grid_template_areas": null,
            "object_position": null,
            "object_fit": null,
            "grid_auto_columns": null,
            "margin": null,
            "display": null,
            "left": null
          }
        },
        "b1360194bcd74261864ff5efdb2ad3d4": {
          "model_module": "@jupyter-widgets/controls",
          "model_name": "HBoxModel",
          "state": {
            "_view_name": "HBoxView",
            "_dom_classes": [],
            "_model_name": "HBoxModel",
            "_view_module": "@jupyter-widgets/controls",
            "_model_module_version": "1.5.0",
            "_view_count": null,
            "_view_module_version": "1.5.0",
            "box_style": "",
            "layout": "IPY_MODEL_49ecde33c61b45c988bce1291635f59f",
            "_model_module": "@jupyter-widgets/controls",
            "children": [
              "IPY_MODEL_03d767f006a94ba99e8c64601ecbcb63",
              "IPY_MODEL_a135294fe5674e028a5b26dbae70bcd3"
            ]
          }
        },
        "49ecde33c61b45c988bce1291635f59f": {
          "model_module": "@jupyter-widgets/base",
          "model_name": "LayoutModel",
          "state": {
            "_view_name": "LayoutView",
            "grid_template_rows": null,
            "right": null,
            "justify_content": null,
            "_view_module": "@jupyter-widgets/base",
            "overflow": null,
            "_model_module_version": "1.2.0",
            "_view_count": null,
            "flex_flow": null,
            "width": null,
            "min_width": null,
            "border": null,
            "align_items": null,
            "bottom": null,
            "_model_module": "@jupyter-widgets/base",
            "top": null,
            "grid_column": null,
            "overflow_y": null,
            "overflow_x": null,
            "grid_auto_flow": null,
            "grid_area": null,
            "grid_template_columns": null,
            "flex": null,
            "_model_name": "LayoutModel",
            "justify_items": null,
            "grid_row": null,
            "max_height": null,
            "align_content": null,
            "visibility": null,
            "align_self": null,
            "height": null,
            "min_height": null,
            "padding": null,
            "grid_auto_rows": null,
            "grid_gap": null,
            "max_width": null,
            "order": null,
            "_view_module_version": "1.2.0",
            "grid_template_areas": null,
            "object_position": null,
            "object_fit": null,
            "grid_auto_columns": null,
            "margin": null,
            "display": null,
            "left": null
          }
        },
        "03d767f006a94ba99e8c64601ecbcb63": {
          "model_module": "@jupyter-widgets/controls",
          "model_name": "FloatProgressModel",
          "state": {
            "_view_name": "ProgressView",
            "style": "IPY_MODEL_7bca2a856c844c3492b0a537f2b809c7",
            "_dom_classes": [],
            "description": "Downloading: 100%",
            "_model_name": "FloatProgressModel",
            "bar_style": "success",
            "max": 435779157,
            "_view_module": "@jupyter-widgets/controls",
            "_model_module_version": "1.5.0",
            "value": 435779157,
            "_view_count": null,
            "_view_module_version": "1.5.0",
            "orientation": "horizontal",
            "min": 0,
            "description_tooltip": null,
            "_model_module": "@jupyter-widgets/controls",
            "layout": "IPY_MODEL_0db102fa459a43819b0a64580b2fa19a"
          }
        },
        "a135294fe5674e028a5b26dbae70bcd3": {
          "model_module": "@jupyter-widgets/controls",
          "model_name": "HTMLModel",
          "state": {
            "_view_name": "HTMLView",
            "style": "IPY_MODEL_dc46001c18c94a30aa27ada911a73121",
            "_dom_classes": [],
            "description": "",
            "_model_name": "HTMLModel",
            "placeholder": "​",
            "_view_module": "@jupyter-widgets/controls",
            "_model_module_version": "1.5.0",
            "value": " 436M/436M [00:08&lt;00:00, 50.0MB/s]",
            "_view_count": null,
            "_view_module_version": "1.5.0",
            "description_tooltip": null,
            "_model_module": "@jupyter-widgets/controls",
            "layout": "IPY_MODEL_178bb803056248e3a624507c8806ba56"
          }
        },
        "7bca2a856c844c3492b0a537f2b809c7": {
          "model_module": "@jupyter-widgets/controls",
          "model_name": "ProgressStyleModel",
          "state": {
            "_view_name": "StyleView",
            "_model_name": "ProgressStyleModel",
            "description_width": "initial",
            "_view_module": "@jupyter-widgets/base",
            "_model_module_version": "1.5.0",
            "_view_count": null,
            "_view_module_version": "1.2.0",
            "bar_color": null,
            "_model_module": "@jupyter-widgets/controls"
          }
        },
        "0db102fa459a43819b0a64580b2fa19a": {
          "model_module": "@jupyter-widgets/base",
          "model_name": "LayoutModel",
          "state": {
            "_view_name": "LayoutView",
            "grid_template_rows": null,
            "right": null,
            "justify_content": null,
            "_view_module": "@jupyter-widgets/base",
            "overflow": null,
            "_model_module_version": "1.2.0",
            "_view_count": null,
            "flex_flow": null,
            "width": null,
            "min_width": null,
            "border": null,
            "align_items": null,
            "bottom": null,
            "_model_module": "@jupyter-widgets/base",
            "top": null,
            "grid_column": null,
            "overflow_y": null,
            "overflow_x": null,
            "grid_auto_flow": null,
            "grid_area": null,
            "grid_template_columns": null,
            "flex": null,
            "_model_name": "LayoutModel",
            "justify_items": null,
            "grid_row": null,
            "max_height": null,
            "align_content": null,
            "visibility": null,
            "align_self": null,
            "height": null,
            "min_height": null,
            "padding": null,
            "grid_auto_rows": null,
            "grid_gap": null,
            "max_width": null,
            "order": null,
            "_view_module_version": "1.2.0",
            "grid_template_areas": null,
            "object_position": null,
            "object_fit": null,
            "grid_auto_columns": null,
            "margin": null,
            "display": null,
            "left": null
          }
        },
        "dc46001c18c94a30aa27ada911a73121": {
          "model_module": "@jupyter-widgets/controls",
          "model_name": "DescriptionStyleModel",
          "state": {
            "_view_name": "StyleView",
            "_model_name": "DescriptionStyleModel",
            "description_width": "",
            "_view_module": "@jupyter-widgets/base",
            "_model_module_version": "1.5.0",
            "_view_count": null,
            "_view_module_version": "1.2.0",
            "_model_module": "@jupyter-widgets/controls"
          }
        },
        "178bb803056248e3a624507c8806ba56": {
          "model_module": "@jupyter-widgets/base",
          "model_name": "LayoutModel",
          "state": {
            "_view_name": "LayoutView",
            "grid_template_rows": null,
            "right": null,
            "justify_content": null,
            "_view_module": "@jupyter-widgets/base",
            "overflow": null,
            "_model_module_version": "1.2.0",
            "_view_count": null,
            "flex_flow": null,
            "width": null,
            "min_width": null,
            "border": null,
            "align_items": null,
            "bottom": null,
            "_model_module": "@jupyter-widgets/base",
            "top": null,
            "grid_column": null,
            "overflow_y": null,
            "overflow_x": null,
            "grid_auto_flow": null,
            "grid_area": null,
            "grid_template_columns": null,
            "flex": null,
            "_model_name": "LayoutModel",
            "justify_items": null,
            "grid_row": null,
            "max_height": null,
            "align_content": null,
            "visibility": null,
            "align_self": null,
            "height": null,
            "min_height": null,
            "padding": null,
            "grid_auto_rows": null,
            "grid_gap": null,
            "max_width": null,
            "order": null,
            "_view_module_version": "1.2.0",
            "grid_template_areas": null,
            "object_position": null,
            "object_fit": null,
            "grid_auto_columns": null,
            "margin": null,
            "display": null,
            "left": null
          }
        }
      }
    }
  },
  "cells": [
    {
      "cell_type": "markdown",
      "metadata": {
        "id": "view-in-github",
        "colab_type": "text"
      },
      "source": [
        "<a href=\"https://colab.research.google.com/github/swguo/Fraud-Email-Analysis-with-BERT/blob/master/Fraud_Email_Analysis_with_BERT.ipynb\" target=\"_parent\"><img src=\"https://colab.research.google.com/assets/colab-badge.svg\" alt=\"Open In Colab\"/></a>"
      ]
    },
    {
      "cell_type": "code",
      "metadata": {
        "colab": {
          "base_uri": "https://localhost:8080/"
        },
        "id": "SNNSS0P-MVrA",
        "outputId": "e515334e-bb6e-4166-fa13-8f03c806dafb"
      },
      "source": [
        "!nvidia-smi"
      ],
      "execution_count": 1,
      "outputs": [
        {
          "output_type": "stream",
          "text": [
            "Thu Jan 14 00:43:45 2021       \n",
            "+-----------------------------------------------------------------------------+\n",
            "| NVIDIA-SMI 460.27.04    Driver Version: 418.67       CUDA Version: 10.1     |\n",
            "|-------------------------------+----------------------+----------------------+\n",
            "| GPU  Name        Persistence-M| Bus-Id        Disp.A | Volatile Uncorr. ECC |\n",
            "| Fan  Temp  Perf  Pwr:Usage/Cap|         Memory-Usage | GPU-Util  Compute M. |\n",
            "|                               |                      |               MIG M. |\n",
            "|===============================+======================+======================|\n",
            "|   0  Tesla T4            Off  | 00000000:00:04.0 Off |                    0 |\n",
            "| N/A   36C    P8     9W /  70W |      0MiB / 15079MiB |      0%      Default |\n",
            "|                               |                      |                 ERR! |\n",
            "+-------------------------------+----------------------+----------------------+\n",
            "                                                                               \n",
            "+-----------------------------------------------------------------------------+\n",
            "| Processes:                                                                  |\n",
            "|  GPU   GI   CI        PID   Type   Process name                  GPU Memory |\n",
            "|        ID   ID                                                   Usage      |\n",
            "|=============================================================================|\n",
            "|  No running processes found                                                 |\n",
            "+-----------------------------------------------------------------------------+\n"
          ],
          "name": "stdout"
        }
      ]
    },
    {
      "cell_type": "code",
      "metadata": {
        "id": "5kc9oJN6NN69"
      },
      "source": [
        "!pip install -q -U watermark"
      ],
      "execution_count": 2,
      "outputs": []
    },
    {
      "cell_type": "markdown",
      "metadata": {
        "id": "lg4ZG6sJNeRb"
      },
      "source": [
        "## pip install -q 最少的結果輸出"
      ]
    },
    {
      "cell_type": "code",
      "metadata": {
        "colab": {
          "base_uri": "https://localhost:8080/"
        },
        "id": "bTD-_84FNS4i",
        "outputId": "f11e7333-2b2f-4ba1-99e9-1ff0a59ee456"
      },
      "source": [
        "!pip install transformers==3"
      ],
      "execution_count": 3,
      "outputs": [
        {
          "output_type": "stream",
          "text": [
            "Collecting transformers==3\n",
            "\u001b[?25l  Downloading https://files.pythonhosted.org/packages/9c/35/1c3f6e62d81f5f0daff1384e6d5e6c5758682a8357ebc765ece2b9def62b/transformers-3.0.0-py3-none-any.whl (754kB)\n",
            "\r\u001b[K     |▍                               | 10kB 20.4MB/s eta 0:00:01\r\u001b[K     |▉                               | 20kB 27.5MB/s eta 0:00:01\r\u001b[K     |█▎                              | 30kB 33.3MB/s eta 0:00:01\r\u001b[K     |█▊                              | 40kB 36.5MB/s eta 0:00:01\r\u001b[K     |██▏                             | 51kB 37.0MB/s eta 0:00:01\r\u001b[K     |██▋                             | 61kB 39.3MB/s eta 0:00:01\r\u001b[K     |███                             | 71kB 27.4MB/s eta 0:00:01\r\u001b[K     |███▌                            | 81kB 24.1MB/s eta 0:00:01\r\u001b[K     |████                            | 92kB 25.6MB/s eta 0:00:01\r\u001b[K     |████▍                           | 102kB 23.4MB/s eta 0:00:01\r\u001b[K     |████▊                           | 112kB 23.4MB/s eta 0:00:01\r\u001b[K     |█████▏                          | 122kB 23.4MB/s eta 0:00:01\r\u001b[K     |█████▋                          | 133kB 23.4MB/s eta 0:00:01\r\u001b[K     |██████                          | 143kB 23.4MB/s eta 0:00:01\r\u001b[K     |██████▌                         | 153kB 23.4MB/s eta 0:00:01\r\u001b[K     |███████                         | 163kB 23.4MB/s eta 0:00:01\r\u001b[K     |███████▍                        | 174kB 23.4MB/s eta 0:00:01\r\u001b[K     |███████▉                        | 184kB 23.4MB/s eta 0:00:01\r\u001b[K     |████████▎                       | 194kB 23.4MB/s eta 0:00:01\r\u001b[K     |████████▊                       | 204kB 23.4MB/s eta 0:00:01\r\u001b[K     |█████████▏                      | 215kB 23.4MB/s eta 0:00:01\r\u001b[K     |█████████▌                      | 225kB 23.4MB/s eta 0:00:01\r\u001b[K     |██████████                      | 235kB 23.4MB/s eta 0:00:01\r\u001b[K     |██████████▍                     | 245kB 23.4MB/s eta 0:00:01\r\u001b[K     |██████████▉                     | 256kB 23.4MB/s eta 0:00:01\r\u001b[K     |███████████▎                    | 266kB 23.4MB/s eta 0:00:01\r\u001b[K     |███████████▊                    | 276kB 23.4MB/s eta 0:00:01\r\u001b[K     |████████████▏                   | 286kB 23.4MB/s eta 0:00:01\r\u001b[K     |████████████▋                   | 296kB 23.4MB/s eta 0:00:01\r\u001b[K     |█████████████                   | 307kB 23.4MB/s eta 0:00:01\r\u001b[K     |█████████████▌                  | 317kB 23.4MB/s eta 0:00:01\r\u001b[K     |██████████████                  | 327kB 23.4MB/s eta 0:00:01\r\u001b[K     |██████████████▎                 | 337kB 23.4MB/s eta 0:00:01\r\u001b[K     |██████████████▊                 | 348kB 23.4MB/s eta 0:00:01\r\u001b[K     |███████████████▏                | 358kB 23.4MB/s eta 0:00:01\r\u001b[K     |███████████████▋                | 368kB 23.4MB/s eta 0:00:01\r\u001b[K     |████████████████                | 378kB 23.4MB/s eta 0:00:01\r\u001b[K     |████████████████▌               | 389kB 23.4MB/s eta 0:00:01\r\u001b[K     |█████████████████               | 399kB 23.4MB/s eta 0:00:01\r\u001b[K     |█████████████████▍              | 409kB 23.4MB/s eta 0:00:01\r\u001b[K     |█████████████████▉              | 419kB 23.4MB/s eta 0:00:01\r\u001b[K     |██████████████████▎             | 430kB 23.4MB/s eta 0:00:01\r\u001b[K     |██████████████████▊             | 440kB 23.4MB/s eta 0:00:01\r\u001b[K     |███████████████████             | 450kB 23.4MB/s eta 0:00:01\r\u001b[K     |███████████████████▌            | 460kB 23.4MB/s eta 0:00:01\r\u001b[K     |████████████████████            | 471kB 23.4MB/s eta 0:00:01\r\u001b[K     |████████████████████▍           | 481kB 23.4MB/s eta 0:00:01\r\u001b[K     |████████████████████▉           | 491kB 23.4MB/s eta 0:00:01\r\u001b[K     |█████████████████████▎          | 501kB 23.4MB/s eta 0:00:01\r\u001b[K     |█████████████████████▊          | 512kB 23.4MB/s eta 0:00:01\r\u001b[K     |██████████████████████▏         | 522kB 23.4MB/s eta 0:00:01\r\u001b[K     |██████████████████████▋         | 532kB 23.4MB/s eta 0:00:01\r\u001b[K     |███████████████████████         | 542kB 23.4MB/s eta 0:00:01\r\u001b[K     |███████████████████████▌        | 552kB 23.4MB/s eta 0:00:01\r\u001b[K     |███████████████████████▉        | 563kB 23.4MB/s eta 0:00:01\r\u001b[K     |████████████████████████▎       | 573kB 23.4MB/s eta 0:00:01\r\u001b[K     |████████████████████████▊       | 583kB 23.4MB/s eta 0:00:01\r\u001b[K     |█████████████████████████▏      | 593kB 23.4MB/s eta 0:00:01\r\u001b[K     |█████████████████████████▋      | 604kB 23.4MB/s eta 0:00:01\r\u001b[K     |██████████████████████████      | 614kB 23.4MB/s eta 0:00:01\r\u001b[K     |██████████████████████████▌     | 624kB 23.4MB/s eta 0:00:01\r\u001b[K     |███████████████████████████     | 634kB 23.4MB/s eta 0:00:01\r\u001b[K     |███████████████████████████▍    | 645kB 23.4MB/s eta 0:00:01\r\u001b[K     |███████████████████████████▉    | 655kB 23.4MB/s eta 0:00:01\r\u001b[K     |████████████████████████████▎   | 665kB 23.4MB/s eta 0:00:01\r\u001b[K     |████████████████████████████▋   | 675kB 23.4MB/s eta 0:00:01\r\u001b[K     |█████████████████████████████   | 686kB 23.4MB/s eta 0:00:01\r\u001b[K     |█████████████████████████████▌  | 696kB 23.4MB/s eta 0:00:01\r\u001b[K     |██████████████████████████████  | 706kB 23.4MB/s eta 0:00:01\r\u001b[K     |██████████████████████████████▍ | 716kB 23.4MB/s eta 0:00:01\r\u001b[K     |██████████████████████████████▉ | 727kB 23.4MB/s eta 0:00:01\r\u001b[K     |███████████████████████████████▎| 737kB 23.4MB/s eta 0:00:01\r\u001b[K     |███████████████████████████████▊| 747kB 23.4MB/s eta 0:00:01\r\u001b[K     |████████████████████████████████| 757kB 23.4MB/s \n",
            "\u001b[?25hRequirement already satisfied: filelock in /usr/local/lib/python3.6/dist-packages (from transformers==3) (3.0.12)\n",
            "Requirement already satisfied: dataclasses; python_version < \"3.7\" in /usr/local/lib/python3.6/dist-packages (from transformers==3) (0.8)\n",
            "Requirement already satisfied: requests in /usr/local/lib/python3.6/dist-packages (from transformers==3) (2.23.0)\n",
            "Requirement already satisfied: packaging in /usr/local/lib/python3.6/dist-packages (from transformers==3) (20.8)\n",
            "Requirement already satisfied: regex!=2019.12.17 in /usr/local/lib/python3.6/dist-packages (from transformers==3) (2019.12.20)\n",
            "Collecting sacremoses\n",
            "\u001b[?25l  Downloading https://files.pythonhosted.org/packages/7d/34/09d19aff26edcc8eb2a01bed8e98f13a1537005d31e95233fd48216eed10/sacremoses-0.0.43.tar.gz (883kB)\n",
            "\u001b[K     |████████████████████████████████| 890kB 52.3MB/s \n",
            "\u001b[?25hCollecting sentencepiece\n",
            "\u001b[?25l  Downloading https://files.pythonhosted.org/packages/14/67/e42bd1181472c95c8cda79305df848264f2a7f62740995a46945d9797b67/sentencepiece-0.1.95-cp36-cp36m-manylinux2014_x86_64.whl (1.2MB)\n",
            "\u001b[K     |████████████████████████████████| 1.2MB 53.7MB/s \n",
            "\u001b[?25hRequirement already satisfied: numpy in /usr/local/lib/python3.6/dist-packages (from transformers==3) (1.19.5)\n",
            "Requirement already satisfied: tqdm>=4.27 in /usr/local/lib/python3.6/dist-packages (from transformers==3) (4.41.1)\n",
            "Collecting tokenizers==0.8.0-rc4\n",
            "\u001b[?25l  Downloading https://files.pythonhosted.org/packages/e8/bd/e5abec46af977c8a1375c1dca7cb1e5b3ec392ef279067af7f6bc50491a0/tokenizers-0.8.0rc4-cp36-cp36m-manylinux1_x86_64.whl (3.0MB)\n",
            "\u001b[K     |████████████████████████████████| 3.0MB 53.4MB/s \n",
            "\u001b[?25hRequirement already satisfied: chardet<4,>=3.0.2 in /usr/local/lib/python3.6/dist-packages (from requests->transformers==3) (3.0.4)\n",
            "Requirement already satisfied: certifi>=2017.4.17 in /usr/local/lib/python3.6/dist-packages (from requests->transformers==3) (2020.12.5)\n",
            "Requirement already satisfied: urllib3!=1.25.0,!=1.25.1,<1.26,>=1.21.1 in /usr/local/lib/python3.6/dist-packages (from requests->transformers==3) (1.24.3)\n",
            "Requirement already satisfied: idna<3,>=2.5 in /usr/local/lib/python3.6/dist-packages (from requests->transformers==3) (2.10)\n",
            "Requirement already satisfied: pyparsing>=2.0.2 in /usr/local/lib/python3.6/dist-packages (from packaging->transformers==3) (2.4.7)\n",
            "Requirement already satisfied: six in /usr/local/lib/python3.6/dist-packages (from sacremoses->transformers==3) (1.15.0)\n",
            "Requirement already satisfied: click in /usr/local/lib/python3.6/dist-packages (from sacremoses->transformers==3) (7.1.2)\n",
            "Requirement already satisfied: joblib in /usr/local/lib/python3.6/dist-packages (from sacremoses->transformers==3) (1.0.0)\n",
            "Building wheels for collected packages: sacremoses\n",
            "  Building wheel for sacremoses (setup.py) ... \u001b[?25l\u001b[?25hdone\n",
            "  Created wheel for sacremoses: filename=sacremoses-0.0.43-cp36-none-any.whl size=893261 sha256=99f7ba2541885c10a73d8deaf91834731a57a3f31689ec759c09060ac94640a3\n",
            "  Stored in directory: /root/.cache/pip/wheels/29/3c/fd/7ce5c3f0666dab31a50123635e6fb5e19ceb42ce38d4e58f45\n",
            "Successfully built sacremoses\n",
            "Installing collected packages: sacremoses, sentencepiece, tokenizers, transformers\n",
            "Successfully installed sacremoses-0.0.43 sentencepiece-0.1.95 tokenizers-0.8.0rc4 transformers-3.0.0\n"
          ],
          "name": "stdout"
        }
      ]
    },
    {
      "cell_type": "code",
      "metadata": {
        "colab": {
          "base_uri": "https://localhost:8080/"
        },
        "id": "Mxx-7w7PNndx",
        "outputId": "43086637-991e-4906-b5d7-f444620489c5"
      },
      "source": [
        "%reload_ext watermark\r\n",
        "%watermark -v -p numpy,pandas,torch,transformers"
      ],
      "execution_count": 4,
      "outputs": [
        {
          "output_type": "stream",
          "text": [
            "CPython 3.6.9\n",
            "IPython 5.5.0\n",
            "\n",
            "numpy 1.19.5\n",
            "pandas 1.1.5\n",
            "torch 1.7.0+cu101\n",
            "transformers 3.0.0\n"
          ],
          "name": "stdout"
        }
      ]
    },
    {
      "cell_type": "code",
      "metadata": {
        "colab": {
          "base_uri": "https://localhost:8080/"
        },
        "id": "2-ssbn18N7F2",
        "outputId": "0effbc35-ceaf-4cbe-97b9-2d056ee39e1e"
      },
      "source": [
        "#@title Setup & Config\r\n",
        "import transformers\r\n",
        "from transformers import BertModel, BertTokenizer, AdamW, get_linear_schedule_with_warmup, BertConfig\r\n",
        "import torch\r\n",
        "\r\n",
        "import numpy as np\r\n",
        "import pandas as pd\r\n",
        "import seaborn as sns\r\n",
        "from pylab import rcParams\r\n",
        "import matplotlib.pyplot as plt\r\n",
        "from matplotlib import rc\r\n",
        "from sklearn.model_selection import train_test_split\r\n",
        "from sklearn.metrics import confusion_matrix, classification_report\r\n",
        "from collections import defaultdict\r\n",
        "from textwrap import wrap\r\n",
        "\r\n",
        "from torch import nn, optim\r\n",
        "from torch.utils.data import Dataset, DataLoader\r\n",
        "import torch.nn.functional as F\r\n",
        "\r\n",
        "%matplotlib inline\r\n",
        "%config InlineBackend.figure_format='retina'\r\n",
        "\r\n",
        "sns.set(style='whitegrid', palette='muted', font_scale=1.2)\r\n",
        "\r\n",
        "HAPPY_COLORS_PALETTE = [\"#01BEFE\", \"#FFDD00\", \"#FF7D00\", \"#FF006D\", \"#ADFF02\", \"#8F00FF\"]\r\n",
        "\r\n",
        "sns.set_palette(sns.color_palette(HAPPY_COLORS_PALETTE))\r\n",
        "\r\n",
        "rcParams['figure.figsize'] = 12, 8\r\n",
        "\r\n",
        "RANDOM_SEED = 42\r\n",
        "np.random.seed(RANDOM_SEED)\r\n",
        "torch.manual_seed(RANDOM_SEED)\r\n",
        "\r\n",
        "device = torch.device(\"cuda:0\" if torch.cuda.is_available() else \"cpu\")\r\n",
        "device"
      ],
      "execution_count": 5,
      "outputs": [
        {
          "output_type": "execute_result",
          "data": {
            "text/plain": [
              "device(type='cuda', index=0)"
            ]
          },
          "metadata": {
            "tags": []
          },
          "execution_count": 5
        }
      ]
    },
    {
      "cell_type": "markdown",
      "metadata": {
        "id": "Q8uvZe13N_Hq"
      },
      "source": [
        "## Data Exploration\r\n",
        "下載Google play 應用程式評論數據集"
      ]
    },
    {
      "cell_type": "code",
      "metadata": {
        "colab": {
          "base_uri": "https://localhost:8080/"
        },
        "id": "yzKTMxDOOBIq",
        "outputId": "8f85998c-c293-48f0-d8cf-dbd6b1f1837e"
      },
      "source": [
        "!wget http://140.128.10.23:8080/fraud_email_.csv"
      ],
      "execution_count": 8,
      "outputs": [
        {
          "output_type": "stream",
          "text": [
            "--2021-01-14 00:46:14--  http://140.128.10.23:8080/fraud_email_.csv\n",
            "Connecting to 140.128.10.23:8080... connected.\n",
            "HTTP request sent, awaiting response... 200 OK\n",
            "Length: 15940304 (15M) [application/octet-stream]\n",
            "Saving to: ‘fraud_email_.csv’\n",
            "\n",
            "fraud_email_.csv    100%[===================>]  15.20M  2.80MB/s    in 11s     \n",
            "\n",
            "2021-01-14 00:46:26 (1.34 MB/s) - ‘fraud_email_.csv’ saved [15940304/15940304]\n",
            "\n"
          ],
          "name": "stdout"
        }
      ]
    },
    {
      "cell_type": "code",
      "metadata": {
        "colab": {
          "base_uri": "https://localhost:8080/"
        },
        "id": "PONhfjpgWn1A",
        "outputId": "ab01796a-8072-441d-e7f4-18a68c4bbddd"
      },
      "source": [
        "!ls -l"
      ],
      "execution_count": 9,
      "outputs": [
        {
          "output_type": "stream",
          "text": [
            "total 15580\n",
            "-rw-r--r-- 1 root root     7733 Jan 14 00:45 download\n",
            "-rw-r--r-- 1 root root 15940304 Oct  2  2019 fraud_email_.csv\n",
            "drwxr-xr-x 1 root root     4096 Jan  6 18:10 sample_data\n"
          ],
          "name": "stdout"
        }
      ]
    },
    {
      "cell_type": "code",
      "metadata": {
        "colab": {
          "base_uri": "https://localhost:8080/",
          "height": 204
        },
        "id": "xvOt4K-vOVBQ",
        "outputId": "3b540ae2-dfc6-4873-9a47-0c5df49a6cea"
      },
      "source": [
        "df = pd.read_csv(\"fraud_email_.csv\")\r\n",
        "df.head()"
      ],
      "execution_count": 22,
      "outputs": [
        {
          "output_type": "execute_result",
          "data": {
            "text/html": [
              "<div>\n",
              "<style scoped>\n",
              "    .dataframe tbody tr th:only-of-type {\n",
              "        vertical-align: middle;\n",
              "    }\n",
              "\n",
              "    .dataframe tbody tr th {\n",
              "        vertical-align: top;\n",
              "    }\n",
              "\n",
              "    .dataframe thead th {\n",
              "        text-align: right;\n",
              "    }\n",
              "</style>\n",
              "<table border=\"1\" class=\"dataframe\">\n",
              "  <thead>\n",
              "    <tr style=\"text-align: right;\">\n",
              "      <th></th>\n",
              "      <th>Text</th>\n",
              "      <th>Class</th>\n",
              "    </tr>\n",
              "  </thead>\n",
              "  <tbody>\n",
              "    <tr>\n",
              "      <th>0</th>\n",
              "      <td>Supply Quality China's EXCLUSIVE dimensions at...</td>\n",
              "      <td>1</td>\n",
              "    </tr>\n",
              "    <tr>\n",
              "      <th>1</th>\n",
              "      <td>over. SidLet me know. Thx.</td>\n",
              "      <td>0</td>\n",
              "    </tr>\n",
              "    <tr>\n",
              "      <th>2</th>\n",
              "      <td>Dear Friend,Greetings to you.I wish to accost ...</td>\n",
              "      <td>1</td>\n",
              "    </tr>\n",
              "    <tr>\n",
              "      <th>3</th>\n",
              "      <td>MR. CHEUNG PUIHANG SENG BANK LTD.DES VOEUX RD....</td>\n",
              "      <td>1</td>\n",
              "    </tr>\n",
              "    <tr>\n",
              "      <th>4</th>\n",
              "      <td>Not a surprising assessment from Embassy.</td>\n",
              "      <td>0</td>\n",
              "    </tr>\n",
              "  </tbody>\n",
              "</table>\n",
              "</div>"
            ],
            "text/plain": [
              "                                                Text  Class\n",
              "0  Supply Quality China's EXCLUSIVE dimensions at...      1\n",
              "1                         over. SidLet me know. Thx.      0\n",
              "2  Dear Friend,Greetings to you.I wish to accost ...      1\n",
              "3  MR. CHEUNG PUIHANG SENG BANK LTD.DES VOEUX RD....      1\n",
              "4          Not a surprising assessment from Embassy.      0"
            ]
          },
          "metadata": {
            "tags": []
          },
          "execution_count": 22
        }
      ]
    },
    {
      "cell_type": "code",
      "metadata": {
        "colab": {
          "base_uri": "https://localhost:8080/"
        },
        "id": "qQjxgUYuOXzE",
        "outputId": "1f90bff9-2d1b-4705-cb9f-237e1b4bbd91"
      },
      "source": [
        "df.shape"
      ],
      "execution_count": 11,
      "outputs": [
        {
          "output_type": "execute_result",
          "data": {
            "text/plain": [
              "(11929, 2)"
            ]
          },
          "metadata": {
            "tags": []
          },
          "execution_count": 11
        }
      ]
    },
    {
      "cell_type": "markdown",
      "metadata": {
        "id": "tOfAPb1_Oe2n"
      },
      "source": [
        "這裡我們有大約 11k 的範例。"
      ]
    },
    {
      "cell_type": "code",
      "metadata": {
        "colab": {
          "base_uri": "https://localhost:8080/"
        },
        "id": "MqJLKuBqOavV",
        "outputId": "1aebc3c9-7eba-4601-f4b6-73b2bb37b9b1"
      },
      "source": [
        "df.info()"
      ],
      "execution_count": 24,
      "outputs": [
        {
          "output_type": "stream",
          "text": [
            "<class 'pandas.core.frame.DataFrame'>\n",
            "RangeIndex: 11929 entries, 0 to 11928\n",
            "Data columns (total 2 columns):\n",
            " #   Column  Non-Null Count  Dtype \n",
            "---  ------  --------------  ----- \n",
            " 0   Text    11928 non-null  object\n",
            " 1   Class   11929 non-null  int64 \n",
            "dtypes: int64(1), object(1)\n",
            "memory usage: 186.5+ KB\n"
          ],
          "name": "stdout"
        }
      ]
    },
    {
      "cell_type": "markdown",
      "metadata": {
        "id": "l558t2sLPHmT"
      },
      "source": [
        "發現Text有遺漏，使用panda清洗資料，去除空值行"
      ]
    },
    {
      "cell_type": "code",
      "metadata": {
        "id": "q7NW1yADaTCV"
      },
      "source": [
        "df.dropna(axis=0, how='any', inplace=True)"
      ],
      "execution_count": 25,
      "outputs": []
    },
    {
      "cell_type": "code",
      "metadata": {
        "colab": {
          "base_uri": "https://localhost:8080/"
        },
        "id": "IUarzGSQaTs6",
        "outputId": "f19a3d04-7ca5-4542-c547-465a2c8ffa70"
      },
      "source": [
        "df.info()"
      ],
      "execution_count": 26,
      "outputs": [
        {
          "output_type": "stream",
          "text": [
            "<class 'pandas.core.frame.DataFrame'>\n",
            "Int64Index: 11928 entries, 0 to 11928\n",
            "Data columns (total 2 columns):\n",
            " #   Column  Non-Null Count  Dtype \n",
            "---  ------  --------------  ----- \n",
            " 0   Text    11928 non-null  object\n",
            " 1   Class   11928 non-null  int64 \n",
            "dtypes: int64(1), object(1)\n",
            "memory usage: 279.6+ KB\n"
          ],
          "name": "stdout"
        }
      ]
    },
    {
      "cell_type": "markdown",
      "metadata": {
        "id": "RV2v1G6gajfT"
      },
      "source": [
        "很好，沒有在Trxt和review text 遺失value ! 再來要檢查class是否不平均"
      ]
    },
    {
      "cell_type": "code",
      "metadata": {
        "colab": {
          "base_uri": "https://localhost:8080/",
          "height": 560
        },
        "id": "evTQiYwSPZfU",
        "outputId": "b4ac9c31-7eed-4430-d970-61d51cdb87be"
      },
      "source": [
        "sns.countplot(df.Class)\r\n",
        "plt.xlabel('review Class');"
      ],
      "execution_count": 27,
      "outputs": [
        {
          "output_type": "stream",
          "text": [
            "/usr/local/lib/python3.6/dist-packages/seaborn/_decorators.py:43: FutureWarning: Pass the following variable as a keyword arg: x. From version 0.12, the only valid positional argument will be `data`, and passing other arguments without an explicit keyword will result in an error or misinterpretation.\n",
            "  FutureWarning\n"
          ],
          "name": "stderr"
        },
        {
          "output_type": "display_data",
          "data": {
            "image/png": "[encoded data removed]",
            "text/plain": [
              "<Figure size 864x576 with 1 Axes>"
            ]
          },
          "metadata": {
            "tags": [],
            "image/png": {
              "width": 745,
              "height": 489
            }
          }
        }
      ]
    },
    {
      "cell_type": "code",
      "metadata": {
        "id": "jxem_EfbP9C_"
      },
      "source": [
        "class_names = ['non-fraud', 'fraud']"
      ],
      "execution_count": 28,
      "outputs": []
    },
    {
      "cell_type": "code",
      "metadata": {
        "colab": {
          "base_uri": "https://localhost:8080/",
          "height": 560
        },
        "id": "3nQItK0HQEAJ",
        "outputId": "5d687e94-6582-4c97-c1b0-dcd0d46112f2"
      },
      "source": [
        "ax = sns.countplot(df.Class)\r\n",
        "plt.xlabel('review Class')\r\n",
        "ax.set_xticklabels(class_names);"
      ],
      "execution_count": 29,
      "outputs": [
        {
          "output_type": "stream",
          "text": [
            "/usr/local/lib/python3.6/dist-packages/seaborn/_decorators.py:43: FutureWarning: Pass the following variable as a keyword arg: x. From version 0.12, the only valid positional argument will be `data`, and passing other arguments without an explicit keyword will result in an error or misinterpretation.\n",
            "  FutureWarning\n"
          ],
          "name": "stderr"
        },
        {
          "output_type": "display_data",
          "data": {
            "image/png": "[encoded data removed]",
            "text/plain": [
              "<Figure size 864x576 with 1 Axes>"
            ]
          },
          "metadata": {
            "tags": [],
            "image/png": {
              "width": 745,
              "height": 489
            }
          }
        }
      ]
    },
    {
      "cell_type": "markdown",
      "metadata": {
        "id": "A3qoRK-VQQHo"
      },
      "source": [
        "## Data Preprocessing"
      ]
    },
    {
      "cell_type": "code",
      "metadata": {
        "id": "jMVDvDaeYNVj"
      },
      "source": [
        "PRE_TRAINED_MODEL_NAME = 'bert-base-cased'"
      ],
      "execution_count": 17,
      "outputs": []
    },
    {
      "cell_type": "code",
      "metadata": {
        "colab": {
          "base_uri": "https://localhost:8080/",
          "height": 66,
          "referenced_widgets": [
            "cd8881dd45b94613bfd5002815282e30",
            "1e8c2e90d491491f8571e015f86317cf",
            "2563723a212d4327a8d5c9274a4358c5",
            "22c961275c214a1d913da98e4ddc7fe7",
            "6993d50820644be4818784bc69d87e4b",
            "e06b7d10c0804bcca4a9d20974c08c49",
            "15b061c365e244d196658fddbdb9ca45",
            "37f8379afdcd43b29cc7e6657a24fa52"
          ]
        },
        "id": "Eb_rWf5DQb2_",
        "outputId": "965c8c39-da97-46a6-95cf-f6c4b5ab8ef5"
      },
      "source": [
        "tokenizer = BertTokenizer.from_pretrained(PRE_TRAINED_MODEL_NAME)"
      ],
      "execution_count": 18,
      "outputs": [
        {
          "output_type": "display_data",
          "data": {
            "application/vnd.jupyter.widget-view+json": {
              "model_id": "cd8881dd45b94613bfd5002815282e30",
              "version_minor": 0,
              "version_major": 2
            },
            "text/plain": [
              "HBox(children=(FloatProgress(value=0.0, description='Downloading', max=213450.0, style=ProgressStyle(descripti…"
            ]
          },
          "metadata": {
            "tags": []
          }
        },
        {
          "output_type": "stream",
          "text": [
            "\n"
          ],
          "name": "stdout"
        }
      ]
    },
    {
      "cell_type": "code",
      "metadata": {
        "colab": {
          "base_uri": "https://localhost:8080/"
        },
        "id": "ZPrR3ypQcN3K",
        "outputId": "70127d6e-ad23-4a83-85c2-74b235160d0e"
      },
      "source": [
        "sample_txt = 'When was I last outside? I am stuck at home for 2 weeks.'\r\n",
        "tokens = tokenizer.tokenize(sample_txt)\r\n",
        "token_ids = tokenizer.convert_tokens_to_ids(tokens)\r\n",
        "\r\n",
        "print(f' Sentence: {sample_txt}')\r\n",
        "print(f'   Tokens: {tokens}')\r\n",
        "print(f'Token IDs: {token_ids}')\r\n",
        "\r\n",
        "encoding = tokenizer.encode_plus(\r\n",
        "  sample_txt,\r\n",
        "  max_length=32,\r\n",
        "  add_special_tokens=True, # Add '[CLS]' and '[SEP]'\r\n",
        "  return_token_type_ids=False,\r\n",
        "  pad_to_max_length=True,\r\n",
        "  return_attention_mask=True,\r\n",
        "  return_tensors='pt',  # Return PyTorch tensors\r\n",
        ")\r\n",
        "\r\n",
        "encoding.keys()"
      ],
      "execution_count": 46,
      "outputs": [
        {
          "output_type": "stream",
          "text": [
            "Truncation was not explicitely activated but `max_length` is provided a specific value, please use `truncation=True` to explicitely truncate examples to max length. Defaulting to 'only_first' truncation strategy. If you encode pairs of sequences (GLUE-style) with the tokenizer you may want to check this is the right behavior.\n"
          ],
          "name": "stderr"
        },
        {
          "output_type": "stream",
          "text": [
            " Sentence: When was I last outside? I am stuck at home for 2 weeks.\n",
            "   Tokens: ['When', 'was', 'I', 'last', 'outside', '?', 'I', 'am', 'stuck', 'at', 'home', 'for', '2', 'weeks', '.']\n",
            "Token IDs: [1332, 1108, 146, 1314, 1796, 136, 146, 1821, 5342, 1120, 1313, 1111, 123, 2277, 119]\n"
          ],
          "name": "stdout"
        },
        {
          "output_type": "execute_result",
          "data": {
            "text/plain": [
              "dict_keys(['input_ids', 'attention_mask'])"
            ]
          },
          "metadata": {
            "tags": []
          },
          "execution_count": 46
        }
      ]
    },
    {
      "cell_type": "markdown",
      "metadata": {
        "id": "kHQInV4gSVgh"
      },
      "source": [
        "## Choosing Sequence Length\r\n",
        "BERT works with fixed-length sequences. We'll use a simple strategy to choose the max length. Let's store the token length of each review:\r\n",
        "\r\n",
        "BERT使用固定長度序列。 我們將使用一種簡單的策略來選擇最大長度。 讓我們存儲每個評論的令牌長度："
      ]
    },
    {
      "cell_type": "code",
      "metadata": {
        "id": "0ahdtkIbSkee"
      },
      "source": [
        "token_lens = []\r\n",
        "\r\n",
        "for txt in df.Text:\r\n",
        "  tokens = tokenizer.encode(txt, max_length=512,truncation=True)\r\n",
        "  token_lens.append(len(tokens))"
      ],
      "execution_count": 30,
      "outputs": []
    },
    {
      "cell_type": "markdown",
      "metadata": {
        "id": "Z7q-jiigSnvQ"
      },
      "source": [
        "劃出email內文轉換成ids的分佈"
      ]
    },
    {
      "cell_type": "code",
      "metadata": {
        "colab": {
          "base_uri": "https://localhost:8080/",
          "height": 560
        },
        "id": "puHCevlwSx-I",
        "outputId": "a2e9905c-d531-48f1-a5d7-d9b700e15bec"
      },
      "source": [
        "sns.distplot(token_lens)\r\n",
        "plt.xlim([0, 256]);\r\n",
        "plt.xlabel('Token count');"
      ],
      "execution_count": 31,
      "outputs": [
        {
          "output_type": "stream",
          "text": [
            "/usr/local/lib/python3.6/dist-packages/seaborn/distributions.py:2557: FutureWarning: `distplot` is a deprecated function and will be removed in a future version. Please adapt your code to use either `displot` (a figure-level function with similar flexibility) or `histplot` (an axes-level function for histograms).\n",
            "  warnings.warn(msg, FutureWarning)\n"
          ],
          "name": "stderr"
        },
        {
          "output_type": "display_data",
          "data": {
            "image/png": "[encoded data removed]",
            "text/plain": [
              "<Figure size 864x576 with 1 Axes>"
            ]
          },
          "metadata": {
            "tags": [],
            "image/png": {
              "width": 749,
              "height": 489
            }
          }
        }
      ]
    },
    {
      "cell_type": "markdown",
      "metadata": {
        "id": "552twxG7S2wz"
      },
      "source": [
        "大部分的評論轉換後小於 150，不過安全起見長度定為200"
      ]
    },
    {
      "cell_type": "code",
      "metadata": {
        "id": "s2zVEBtPTNAc"
      },
      "source": [
        "MAX_LEN = 200"
      ],
      "execution_count": 32,
      "outputs": []
    },
    {
      "cell_type": "markdown",
      "metadata": {
        "id": "BQc6XqokTP_2"
      },
      "source": [
        ""
      ]
    },
    {
      "cell_type": "code",
      "metadata": {
        "id": "QSDwQek8TOfi"
      },
      "source": [
        "class GPReviewDataset(Dataset):\r\n",
        "\r\n",
        "  def __init__(self, reviews, targets, tokenizer, max_len):\r\n",
        "    self.reviews = reviews\r\n",
        "    self.targets = targets\r\n",
        "    self.tokenizer = tokenizer\r\n",
        "    self.max_len = max_len\r\n",
        "  \r\n",
        "  def __len__(self):\r\n",
        "    return len(self.reviews)\r\n",
        "  \r\n",
        "  def __getitem__(self, item):\r\n",
        "    review = str(self.reviews[item])\r\n",
        "    target = self.targets[item]\r\n",
        "\r\n",
        "    encoding = self.tokenizer.encode_plus(\r\n",
        "      review,\r\n",
        "      add_special_tokens=True,\r\n",
        "      max_length=self.max_len,\r\n",
        "      return_token_type_ids=True,\r\n",
        "      pad_to_max_length=True,\r\n",
        "      return_attention_mask=True,\r\n",
        "      return_tensors='pt',\r\n",
        "      truncation=True\r\n",
        "    )\r\n",
        "\r\n",
        "    return {\r\n",
        "      'review_text': review,\r\n",
        "      'input_ids': encoding['input_ids'].flatten(),\r\n",
        "      'attention_mask': encoding['attention_mask'].flatten(),\r\n",
        "      'targets': torch.tensor(target, dtype=torch.long)\r\n",
        "    }"
      ],
      "execution_count": 33,
      "outputs": []
    },
    {
      "cell_type": "code",
      "metadata": {
        "id": "fYnovvqnTvQz"
      },
      "source": [
        "df_train, df_test = train_test_split(df, test_size=0.1, random_state=RANDOM_SEED)\r\n",
        "df_val, df_test = train_test_split(df_test, test_size=0.5, random_state=RANDOM_SEED)"
      ],
      "execution_count": 34,
      "outputs": []
    },
    {
      "cell_type": "code",
      "metadata": {
        "colab": {
          "base_uri": "https://localhost:8080/"
        },
        "id": "NYx5W_N4T1GR",
        "outputId": "0bf77f2f-27dc-4772-e3ab-dfc59453de73"
      },
      "source": [
        "df_train.shape, df_val.shape, df_test.shape"
      ],
      "execution_count": 35,
      "outputs": [
        {
          "output_type": "execute_result",
          "data": {
            "text/plain": [
              "((10735, 2), (596, 2), (597, 2))"
            ]
          },
          "metadata": {
            "tags": []
          },
          "execution_count": 35
        }
      ]
    },
    {
      "cell_type": "code",
      "metadata": {
        "id": "7-oO4yQtUNOa"
      },
      "source": [
        "def create_data_loader(df, tokenizer, max_len, batch_size):\r\n",
        "  ds = GPReviewDataset(\r\n",
        "    reviews=df.Text.to_numpy(),\r\n",
        "    targets=df.Class.to_numpy(),\r\n",
        "    tokenizer=tokenizer,\r\n",
        "    max_len=max_len\r\n",
        "  )\r\n",
        "\r\n",
        "  return DataLoader(\r\n",
        "    ds,\r\n",
        "    batch_size=batch_size,\r\n",
        "    num_workers=4\r\n",
        "  )"
      ],
      "execution_count": 39,
      "outputs": []
    },
    {
      "cell_type": "code",
      "metadata": {
        "id": "pcyNU7K5UKMf"
      },
      "source": [
        "BATCH_SIZE = 16\r\n",
        "train_data_loader = create_data_loader(df_train, tokenizer, MAX_LEN, BATCH_SIZE)\r\n",
        "val_data_loader = create_data_loader(df_val, tokenizer, MAX_LEN, BATCH_SIZE)\r\n",
        "test_data_loader = create_data_loader(df_test, tokenizer, MAX_LEN, BATCH_SIZE)"
      ],
      "execution_count": 40,
      "outputs": []
    },
    {
      "cell_type": "code",
      "metadata": {
        "colab": {
          "base_uri": "https://localhost:8080/"
        },
        "id": "8RLKtoxXUd32",
        "outputId": "aa393ba9-ad67-4dad-cdf5-4e2dba4de7d4"
      },
      "source": [
        "data = next(iter(train_data_loader))\r\n",
        "data.keys()"
      ],
      "execution_count": 41,
      "outputs": [
        {
          "output_type": "execute_result",
          "data": {
            "text/plain": [
              "dict_keys(['review_text', 'input_ids', 'attention_mask', 'targets'])"
            ]
          },
          "metadata": {
            "tags": []
          },
          "execution_count": 41
        }
      ]
    },
    {
      "cell_type": "code",
      "metadata": {
        "colab": {
          "base_uri": "https://localhost:8080/"
        },
        "id": "87DW72KDUpq4",
        "outputId": "4df2a41d-e5e3-465b-ee9c-7a1268174054"
      },
      "source": [
        "print(data['input_ids'].shape)\r\n",
        "print(data['input_ids'])\r\n",
        "print(data['attention_mask'].shape)\r\n",
        "print(data['targets'].shape)"
      ],
      "execution_count": 42,
      "outputs": [
        {
          "output_type": "stream",
          "text": [
            "torch.Size([16, 200])\n",
            "tensor([[  101,   153,  3447,  ...,     0,     0,     0],\n",
            "        [  101,   120,   130,  ...,  2036,  8215,   102],\n",
            "        [  101, 17182, 25028,  ...,   100, 19863,   102],\n",
            "        ...,\n",
            "        [  101,  1142,  2187,  ...,     0,     0,     0],\n",
            "        [  101, 22572,  5075,  ...,     0,     0,     0],\n",
            "        [  101, 12465,  2069,  ...,     0,     0,     0]])\n",
            "torch.Size([16, 200])\n",
            "torch.Size([16])\n"
          ],
          "name": "stdout"
        }
      ]
    },
    {
      "cell_type": "markdown",
      "metadata": {
        "id": "vhTG6W7gUyIx"
      },
      "source": [
        "## Fruad Email Classification with BERT and Hugging Face"
      ]
    },
    {
      "cell_type": "code",
      "metadata": {
        "colab": {
          "base_uri": "https://localhost:8080/",
          "height": 132,
          "referenced_widgets": [
            "ace88808d54247299d6d8d54c80db01c",
            "11be9927353945739d5ba91f04345b4a",
            "f041819f6a394e468c7186b02fc5012d",
            "67ddf0b524a84cd680327395947cd0fe",
            "aaa9778a3ae04490b02afc3135b0a5de",
            "dc91d2124c52457194fe2e66cb5bf804",
            "df1915b5659340a8b8ff7b42de73f9e9",
            "9762dffab95d4e11ba71aaa8d6bf6e53",
            "b1360194bcd74261864ff5efdb2ad3d4",
            "49ecde33c61b45c988bce1291635f59f",
            "03d767f006a94ba99e8c64601ecbcb63",
            "a135294fe5674e028a5b26dbae70bcd3",
            "7bca2a856c844c3492b0a537f2b809c7",
            "0db102fa459a43819b0a64580b2fa19a",
            "dc46001c18c94a30aa27ada911a73121",
            "178bb803056248e3a624507c8806ba56"
          ]
        },
        "id": "nzoX08CCUxdF",
        "outputId": "8059e9d8-586d-4a4b-8131-3d893523bc25"
      },
      "source": [
        "print(PRE_TRAINED_MODEL_NAME)\r\n",
        "PRE_TRAINED_MODEL_NAME = 'bert-base-cased'\r\n",
        "bert_model = BertModel.from_pretrained(PRE_TRAINED_MODEL_NAME)"
      ],
      "execution_count": 43,
      "outputs": [
        {
          "output_type": "stream",
          "text": [
            "bert-base-cased\n"
          ],
          "name": "stdout"
        },
        {
          "output_type": "display_data",
          "data": {
            "application/vnd.jupyter.widget-view+json": {
              "model_id": "ace88808d54247299d6d8d54c80db01c",
              "version_minor": 0,
              "version_major": 2
            },
            "text/plain": [
              "HBox(children=(FloatProgress(value=0.0, description='Downloading', max=433.0, style=ProgressStyle(description_…"
            ]
          },
          "metadata": {
            "tags": []
          }
        },
        {
          "output_type": "stream",
          "text": [
            "\n"
          ],
          "name": "stdout"
        },
        {
          "output_type": "display_data",
          "data": {
            "application/vnd.jupyter.widget-view+json": {
              "model_id": "b1360194bcd74261864ff5efdb2ad3d4",
              "version_minor": 0,
              "version_major": 2
            },
            "text/plain": [
              "HBox(children=(FloatProgress(value=0.0, description='Downloading', max=435779157.0, style=ProgressStyle(descri…"
            ]
          },
          "metadata": {
            "tags": []
          }
        },
        {
          "output_type": "stream",
          "text": [
            "\n"
          ],
          "name": "stdout"
        }
      ]
    },
    {
      "cell_type": "code",
      "metadata": {
        "id": "K1g8JFQWU2a0"
      },
      "source": [
        "last_hidden_state, pooled_output = bert_model(\r\n",
        "  input_ids=encoding['input_ids'], \r\n",
        "  attention_mask=encoding['attention_mask']\r\n",
        ")"
      ],
      "execution_count": 47,
      "outputs": []
    },
    {
      "cell_type": "code",
      "metadata": {
        "colab": {
          "base_uri": "https://localhost:8080/"
        },
        "id": "nX1IZ36dU8S0",
        "outputId": "85f52ef6-7b12-490e-9f8c-cbe28b2b3033"
      },
      "source": [
        "last_hidden_state.shape"
      ],
      "execution_count": 48,
      "outputs": [
        {
          "output_type": "execute_result",
          "data": {
            "text/plain": [
              "torch.Size([1, 32, 768])"
            ]
          },
          "metadata": {
            "tags": []
          },
          "execution_count": 48
        }
      ]
    },
    {
      "cell_type": "code",
      "metadata": {
        "colab": {
          "base_uri": "https://localhost:8080/"
        },
        "id": "McUT-QLCVFVw",
        "outputId": "c8038577-13eb-4425-fc9e-bfb997801035"
      },
      "source": [
        "bert_model.config.hidden_size"
      ],
      "execution_count": 49,
      "outputs": [
        {
          "output_type": "execute_result",
          "data": {
            "text/plain": [
              "768"
            ]
          },
          "metadata": {
            "tags": []
          },
          "execution_count": 49
        }
      ]
    },
    {
      "cell_type": "code",
      "metadata": {
        "colab": {
          "base_uri": "https://localhost:8080/"
        },
        "id": "DVGi2QGSVHfj",
        "outputId": "8ec947f3-8e6c-4384-8624-575931b99bf6"
      },
      "source": [
        "pooled_output.shape"
      ],
      "execution_count": 50,
      "outputs": [
        {
          "output_type": "execute_result",
          "data": {
            "text/plain": [
              "torch.Size([1, 768])"
            ]
          },
          "metadata": {
            "tags": []
          },
          "execution_count": 50
        }
      ]
    },
    {
      "cell_type": "code",
      "metadata": {
        "id": "RMBylnV1Vfnb"
      },
      "source": [
        "class SentimentClassifier(nn.Module):\r\n",
        "\r\n",
        "  def __init__(self, n_classes):\r\n",
        "    super(SentimentClassifier, self).__init__()\r\n",
        "    self.bert = BertModel.from_pretrained(PRE_TRAINED_MODEL_NAME)\r\n",
        "    self.drop = nn.Dropout(p=0.3)\r\n",
        "    self.out = nn.Linear(self.bert.config.hidden_size, n_classes)\r\n",
        "  \r\n",
        "  def forward(self, input_ids, attention_mask):\r\n",
        "    _, pooled_output = self.bert(\r\n",
        "      input_ids=input_ids,\r\n",
        "      attention_mask=attention_mask\r\n",
        "    )\r\n",
        "    output = self.drop(pooled_output)\r\n",
        "    return self.out(output)"
      ],
      "execution_count": 52,
      "outputs": []
    },
    {
      "cell_type": "code",
      "metadata": {
        "id": "YqEGUrtlViWY"
      },
      "source": [
        "model = SentimentClassifier(len(class_names))\r\n",
        "#saved_model = torch.load('selective_stock_dataset_state-2.bin')\r\n",
        "#model.load_state_dict(saved_model, strict=False)\r\n",
        "model = model.to(device)"
      ],
      "execution_count": 53,
      "outputs": []
    },
    {
      "cell_type": "code",
      "metadata": {
        "colab": {
          "base_uri": "https://localhost:8080/"
        },
        "id": "YZQPW79mVr08",
        "outputId": "696edf77-4890-45f8-ec9b-170d0dd65980"
      },
      "source": [
        "input_ids = data['input_ids'].to(device)\r\n",
        "attention_mask = data['attention_mask'].to(device)\r\n",
        "\r\n",
        "print(input_ids.shape) # batch size x seq length\r\n",
        "print(attention_mask.shape) # batch size x seq length"
      ],
      "execution_count": 54,
      "outputs": [
        {
          "output_type": "stream",
          "text": [
            "torch.Size([16, 200])\n",
            "torch.Size([16, 200])\n"
          ],
          "name": "stdout"
        }
      ]
    },
    {
      "cell_type": "code",
      "metadata": {
        "colab": {
          "base_uri": "https://localhost:8080/"
        },
        "id": "-KCuAyei1G8G",
        "outputId": "e19bce16-7fa3-486c-c714-27432454ecaa"
      },
      "source": [
        "F.relu(model(input_ids, attention_mask))"
      ],
      "execution_count": 57,
      "outputs": [
        {
          "output_type": "execute_result",
          "data": {
            "text/plain": [
              "tensor([[0.4806, 0.0000],\n",
              "        [0.9058, 0.0000],\n",
              "        [0.6629, 0.0000],\n",
              "        [0.7958, 0.0000],\n",
              "        [0.2465, 0.0000],\n",
              "        [0.4003, 0.0000],\n",
              "        [0.7649, 0.0000],\n",
              "        [0.8552, 0.0000],\n",
              "        [0.7397, 0.0000],\n",
              "        [0.1854, 0.0000],\n",
              "        [0.4358, 0.0000],\n",
              "        [0.0000, 0.0000],\n",
              "        [0.7401, 0.0000],\n",
              "        [0.8360, 0.0000],\n",
              "        [0.0000, 0.0000],\n",
              "        [1.0119, 0.0000]], device='cuda:0', grad_fn=<ReluBackward0>)"
            ]
          },
          "metadata": {
            "tags": []
          },
          "execution_count": 57
        }
      ]
    },
    {
      "cell_type": "code",
      "metadata": {
        "id": "KKT7z_auVuYM"
      },
      "source": [
        "EPOCHS = 2\r\n",
        "\r\n",
        "optimizer = AdamW(model.parameters(), lr=2e-5, correct_bias=False)\r\n",
        "total_steps = len(train_data_loader) * EPOCHS\r\n",
        "\r\n",
        "scheduler = get_linear_schedule_with_warmup(\r\n",
        "  optimizer,\r\n",
        "  num_warmup_steps=0,\r\n",
        "  num_training_steps=total_steps\r\n",
        ")\r\n",
        "\r\n",
        "loss_fn = nn.CrossEntropyLoss().to(device)"
      ],
      "execution_count": 65,
      "outputs": []
    },
    {
      "cell_type": "code",
      "metadata": {
        "id": "QSqN5vou1NLc"
      },
      "source": [
        "def train_epoch(\r\n",
        "  model, \r\n",
        "  data_loader, \r\n",
        "  loss_fn, \r\n",
        "  optimizer, \r\n",
        "  device, \r\n",
        "  scheduler, \r\n",
        "  n_examples\r\n",
        "):\r\n",
        "  model = model.train()\r\n",
        "\r\n",
        "  losses = []\r\n",
        "  correct_predictions = 0\r\n",
        "  \r\n",
        "  for d in data_loader:\r\n",
        "    input_ids = d[\"input_ids\"].to(device)\r\n",
        "    attention_mask = d[\"attention_mask\"].to(device)\r\n",
        "    targets = d[\"targets\"].to(device)\r\n",
        "\r\n",
        "    outputs = model(\r\n",
        "      input_ids=input_ids,\r\n",
        "      attention_mask=attention_mask\r\n",
        "    )\r\n",
        "\r\n",
        "    _, preds = torch.max(outputs, dim=1)\r\n",
        "    loss = loss_fn(outputs, targets)\r\n",
        "\r\n",
        "    correct_predictions += torch.sum(preds == targets)\r\n",
        "    losses.append(loss.item())\r\n",
        "\r\n",
        "    loss.backward()\r\n",
        "    nn.utils.clip_grad_norm_(model.parameters(), max_norm=1.0)\r\n",
        "    optimizer.step()\r\n",
        "    scheduler.step()\r\n",
        "    optimizer.zero_grad()\r\n",
        "\r\n",
        "  return correct_predictions.double() / n_examples, np.mean(losses)"
      ],
      "execution_count": 67,
      "outputs": []
    },
    {
      "cell_type": "code",
      "metadata": {
        "id": "4fbOUC641QAp"
      },
      "source": [
        "def eval_model(model, data_loader, loss_fn, device, n_examples):\r\n",
        "  model = model.eval()\r\n",
        "\r\n",
        "  losses = []\r\n",
        "  correct_predictions = 0\r\n",
        "\r\n",
        "  with torch.no_grad():\r\n",
        "    for d in data_loader:\r\n",
        "      input_ids = d[\"input_ids\"].to(device)\r\n",
        "      attention_mask = d[\"attention_mask\"].to(device)\r\n",
        "      targets = d[\"targets\"].to(device)\r\n",
        "\r\n",
        "      outputs = model(\r\n",
        "        input_ids=input_ids,\r\n",
        "        attention_mask=attention_mask\r\n",
        "      )\r\n",
        "      _, preds = torch.max(outputs, dim=1)\r\n",
        "\r\n",
        "      loss = loss_fn(outputs, targets)\r\n",
        "\r\n",
        "      correct_predictions += torch.sum(preds == targets)\r\n",
        "      losses.append(loss.item())\r\n",
        "\r\n",
        "  return correct_predictions.double() / n_examples, np.mean(losses)"
      ],
      "execution_count": 68,
      "outputs": []
    },
    {
      "cell_type": "code",
      "metadata": {
        "colab": {
          "base_uri": "https://localhost:8080/"
        },
        "id": "KQWP13yB1TAv",
        "outputId": "3675a058-6412-46c7-a781-cee50dfe159a"
      },
      "source": [
        "%%time\r\n",
        "\r\n",
        "history = defaultdict(list)\r\n",
        "best_accuracy = 0\r\n",
        "\r\n",
        "for epoch in range(EPOCHS):\r\n",
        "\r\n",
        "  print(f'Epoch {epoch + 1}/{EPOCHS}')\r\n",
        "  print('-' * 10)\r\n",
        "\r\n",
        "  train_acc, train_loss = train_epoch(\r\n",
        "    model,\r\n",
        "    train_data_loader,    \r\n",
        "    loss_fn, \r\n",
        "    optimizer, \r\n",
        "    device, \r\n",
        "    scheduler, \r\n",
        "    len(df_train)\r\n",
        "  )\r\n",
        "\r\n",
        "  print(f'Train loss {train_loss} accuracy {train_acc}')\r\n",
        "\r\n",
        "  val_acc, val_loss = eval_model(\r\n",
        "    model,\r\n",
        "    val_data_loader,\r\n",
        "    loss_fn, \r\n",
        "    device, \r\n",
        "    len(df_val)\r\n",
        "  )\r\n",
        "\r\n",
        "  print(f'Val   loss {val_loss} accuracy {val_acc}')\r\n",
        "  print()\r\n",
        "\r\n",
        "  history['train_acc'].append(train_acc)\r\n",
        "  history['train_loss'].append(train_loss)\r\n",
        "  history['val_acc'].append(val_acc)\r\n",
        "  history['val_loss'].append(val_loss)\r\n",
        "  if best_accuracy > 0.99:\r\n",
        "    break\r\n",
        "  if val_acc > best_accuracy:\r\n",
        "    torch.save(model.state_dict(), 'best_model_state.bin')\r\n",
        "    best_accuracy = val_acc"
      ],
      "execution_count": 69,
      "outputs": [
        {
          "output_type": "stream",
          "text": [
            "Epoch 1/2\n",
            "----------\n",
            "Train loss 8.407243410669722e-07 accuracy 1.0\n",
            "Val   loss 0.021741737158065665 accuracy 0.9983221476510067\n",
            "\n",
            "Epoch 2/2\n",
            "----------\n",
            "Train loss 0.0017561525704718284 accuracy 0.999720540288775\n",
            "Val   loss 0.024823268189187786 accuracy 0.9983221476510067\n",
            "\n",
            "CPU times: user 8min 7s, sys: 5min 37s, total: 13min 45s\n",
            "Wall time: 13min 54s\n"
          ],
          "name": "stdout"
        }
      ]
    },
    {
      "cell_type": "code",
      "metadata": {
        "colab": {
          "base_uri": "https://localhost:8080/",
          "height": 523
        },
        "id": "kiFURbVj1XD_",
        "outputId": "d64155c0-3765-4869-b839-797cdc1c03a1"
      },
      "source": [
        "plt.plot(history['val_acc'], label='validation accuracy')\r\n",
        "\r\n",
        "plt.title('Training history')\r\n",
        "plt.ylabel('Accuracy')\r\n",
        "plt.xlabel('Epoch')\r\n",
        "plt.legend()\r\n",
        "plt.ylim([0, 1]);"
      ],
      "execution_count": 70,
      "outputs": [
        {
          "output_type": "display_data",
          "data": {
            "image/png": "[encoded data removed]",
            "text/plain": [
              "<Figure size 864x576 with 1 Axes>"
            ]
          },
          "metadata": {
            "tags": [],
            "image/png": {
              "width": 732,
              "height": 506
            }
          }
        }
      ]
    },
    {
      "cell_type": "markdown",
      "metadata": {
        "id": "iYJs7AW91ca0"
      },
      "source": [
        "## Evaluation"
      ]
    },
    {
      "cell_type": "markdown",
      "metadata": {
        "id": "maoaBwgW1bfG"
      },
      "source": [
        ""
      ]
    },
    {
      "cell_type": "code",
      "metadata": {
        "colab": {
          "base_uri": "https://localhost:8080/"
        },
        "id": "UpCLAECP1Zga",
        "outputId": "854fb8f3-4d52-4eec-c063-f3c46186de81"
      },
      "source": [
        "test_acc, _ = eval_model(\r\n",
        "  model,\r\n",
        "  test_data_loader,\r\n",
        "  loss_fn,\r\n",
        "  device,\r\n",
        "  len(df_test)\r\n",
        ")\r\n",
        "\r\n",
        "test_acc.item()"
      ],
      "execution_count": 71,
      "outputs": [
        {
          "output_type": "execute_result",
          "data": {
            "text/plain": [
              "0.9983249581239532"
            ]
          },
          "metadata": {
            "tags": []
          },
          "execution_count": 71
        }
      ]
    },
    {
      "cell_type": "code",
      "metadata": {
        "id": "kSsIbudm1hR8"
      },
      "source": [
        "def get_predictions(model, data_loader):\r\n",
        "  model = model.eval()\r\n",
        "  \r\n",
        "  review_texts = []\r\n",
        "  predictions = []\r\n",
        "  prediction_probs = []\r\n",
        "  real_values = []\r\n",
        "\r\n",
        "  with torch.no_grad():\r\n",
        "    for d in data_loader:\r\n",
        "\r\n",
        "      texts = d[\"review_text\"]\r\n",
        "      input_ids = d[\"input_ids\"].to(device)\r\n",
        "      attention_mask = d[\"attention_mask\"].to(device)\r\n",
        "      targets = d[\"targets\"].to(device)\r\n",
        "\r\n",
        "      outputs = model(\r\n",
        "        input_ids=input_ids,\r\n",
        "        attention_mask=attention_mask\r\n",
        "      )\r\n",
        "      _, preds = torch.max(outputs, dim=1)\r\n",
        "\r\n",
        "      probs = F.softmax(outputs, dim=1)\r\n",
        "\r\n",
        "      review_texts.extend(texts)\r\n",
        "      predictions.extend(preds)\r\n",
        "      prediction_probs.extend(probs)\r\n",
        "      real_values.extend(targets)\r\n",
        "\r\n",
        "  predictions = torch.stack(predictions).cpu()\r\n",
        "  prediction_probs = torch.stack(prediction_probs).cpu()\r\n",
        "  real_values = torch.stack(real_values).cpu()\r\n",
        "  return review_texts, predictions, prediction_probs, real_values"
      ],
      "execution_count": 72,
      "outputs": []
    },
    {
      "cell_type": "code",
      "metadata": {
        "id": "4iv4C3iJ1kvz"
      },
      "source": [
        "y_review_texts, y_pred, y_pred_probs, y_test = get_predictions(\r\n",
        "  model,\r\n",
        "  test_data_loader\r\n",
        ")"
      ],
      "execution_count": 73,
      "outputs": []
    },
    {
      "cell_type": "code",
      "metadata": {
        "colab": {
          "base_uri": "https://localhost:8080/"
        },
        "id": "ko0sD3xU1odb",
        "outputId": "796237ef-c0af-4da8-94bb-94ca659e0c9b"
      },
      "source": [
        "print(classification_report(y_test, y_pred, target_names=class_names))"
      ],
      "execution_count": 74,
      "outputs": [
        {
          "output_type": "stream",
          "text": [
            "              precision    recall  f1-score   support\n",
            "\n",
            "   non-fraud       1.00      1.00      1.00       325\n",
            "       fraud       1.00      1.00      1.00       272\n",
            "\n",
            "    accuracy                           1.00       597\n",
            "   macro avg       1.00      1.00      1.00       597\n",
            "weighted avg       1.00      1.00      1.00       597\n",
            "\n"
          ],
          "name": "stdout"
        }
      ]
    },
    {
      "cell_type": "code",
      "metadata": {
        "colab": {
          "base_uri": "https://localhost:8080/",
          "height": 537
        },
        "id": "3crPZl2u1o8P",
        "outputId": "e1b45632-49b8-4219-bdad-cedd21a73cdf"
      },
      "source": [
        "def show_confusion_matrix(confusion_matrix):\r\n",
        "  hmap = sns.heatmap(confusion_matrix, annot=True, fmt=\"d\", cmap=\"Blues\")\r\n",
        "  hmap.yaxis.set_ticklabels(hmap.yaxis.get_ticklabels(), rotation=0, ha='right')\r\n",
        "  hmap.xaxis.set_ticklabels(hmap.xaxis.get_ticklabels(), rotation=30, ha='right')\r\n",
        "  plt.ylabel('True class')\r\n",
        "  plt.xlabel('Predicted class');\r\n",
        "\r\n",
        "cm = confusion_matrix(y_test, y_pred)\r\n",
        "df_cm = pd.DataFrame(cm, index=class_names, columns=class_names)\r\n",
        "show_confusion_matrix(df_cm)"
      ],
      "execution_count": 75,
      "outputs": [
        {
          "output_type": "display_data",
          "data": {
            "image/png": "[encoded data removed]",
            "text/plain": [
              "<Figure size 864x576 with 2 Axes>"
            ]
          },
          "metadata": {
            "tags": [],
            "image/png": {
              "width": 731,
              "height": 520
            }
          }
        }
      ]
    },
    {
      "cell_type": "code",
      "metadata": {
        "id": "U9y_a27hVUO4"
      },
      "source": [
        "idx = 2\r\n",
        "\r\n",
        "review_text = y_review_texts[idx]\r\n",
        "true_class = y_test[idx]\r\n",
        "pred_df = pd.DataFrame({\r\n",
        "  'class_names': class_names,\r\n",
        "  'values': y_pred_probs[idx]\r\n",
        "})"
      ],
      "execution_count": 76,
      "outputs": []
    },
    {
      "cell_type": "code",
      "metadata": {
        "colab": {
          "base_uri": "https://localhost:8080/"
        },
        "id": "3kl6X4ylVZie",
        "outputId": "d43fa57f-d171-407d-ff06-11f704dcce62"
      },
      "source": [
        "print(\"\\n\".join(wrap(review_text)))\r\n",
        "print()\r\n",
        "print(f'True class: {class_names[true_class]}')"
      ],
      "execution_count": 77,
      "outputs": [
        {
          "output_type": "stream",
          "text": [
            "PIRFriday August 14 2009 5:46 PMH; Huma Abedin; CDM; Jake SullivanDr.\n",
            "ARELEASE IN PART B6Her parting words to us when we got out of the vans\n",
            "at State:\n",
            "\n",
            "True class: non-fraud\n"
          ],
          "name": "stdout"
        }
      ]
    },
    {
      "cell_type": "code",
      "metadata": {
        "colab": {
          "base_uri": "https://localhost:8080/",
          "height": 506
        },
        "id": "JqnxMk2DVfN6",
        "outputId": "dd9099f2-2137-41e7-83c1-ce48aee9d826"
      },
      "source": [
        "sns.barplot(x='values', y='class_names', data=pred_df, orient='h')\r\n",
        "plt.ylabel('class')\r\n",
        "plt.xlabel('probability')\r\n",
        "plt.xlim([0, 1]);"
      ],
      "execution_count": 78,
      "outputs": [
        {
          "output_type": "display_data",
          "data": {
            "image/png": "[encoded data removed]",
            "text/plain": [
              "<Figure size 864x576 with 1 Axes>"
            ]
          },
          "metadata": {
            "tags": [],
            "image/png": {
              "width": 786,
              "height": 489
            }
          }
        }
      ]
    },
    {
      "cell_type": "markdown",
      "metadata": {
        "id": "t--FHjrnVijv"
      },
      "source": [
        "## Predicting on Raw Text"
      ]
    },
    {
      "cell_type": "code",
      "metadata": {
        "id": "nzN_-vsHVh0u"
      },
      "source": [
        "review_text = \"\"\"DEAR FRIEND,\r\n",
        "\r\n",
        "I AM ( DR.) JAMES NGOLA, THE PERSONAL ASSISTANCE TO THE LATE CONGOLESE (PRESIDENT LAURENT KABILA) WHO WAS ASSASSINATED BY HIS BODY GUARD ON 16TH JAN. 2001.\r\n",
        "\r\n",
        "\r\n",
        "THE INCIDENT OCCURRED IN OUR PRESENCE WHILE WE WERE HOLDING MEETING WITH HIS EXCELLENCY OVER THE FINANCIAL RETURNS FROM THE DIAMOND SALES IN THE AREAS CONTROLLED BY (D.R.C.) DEMOCRATIC REPUBLIC OF CONGO FORCES AND THEIR FOREIGN ALLIES ANGOLA AND ZIMBABWE, HAVING RECEIVED THE PREVIOUS DAY (USD$100M) ONE HUNDRED MILLION UNITED STATES DOLLARS, CASH IN THREE DIPLOMATIC BOXES ROUTED THROUGH ZIMBABWE.\r\n",
        "\r\n",
        "MY PURPOSE OF WRITING YOU THIS LETTER IS TO SOLICIT FOR YOUR ASSISTANCE AS TO BE A COVER TO THE FUND AND ALSO COLLABORATION IN MOVING THE SAID FUND INTO YOUR BANK ACCOUNT THE SUM OF (USD$25M) TWENTY FIVE MILLION UNITED STATES DOLLARS ONLY, WHICH I DEPOSITED WITH A SECURITY COMPANY IN GHANA, IN A DIPLOMATIC BOX AS GOLDS WORTH (USD$25M) TWENTY FIVE MILLION UNITED STATES DOLLARS ONLY FOR SAFE KEEPING IN A SECURITY VAULT FOR ANY FURTHER INVESTMENT PERHAPS IN YOUR COUNTRY. \r\n",
        "\r\n",
        "YOU WERE INTRODUCED TO ME BY A RELIABLE FRIEND OF MINE WHO IS A TRAVELLER,AND ALSO A MEMBER OF CHAMBER OF COMMERCE AS A RELIABLE AND TRUSTWORTHY PERSON WHOM I CAN RELY ON AS FOREIGN PARTNER, EVEN THOUGH THE NATURE OF THE TRANSACTION WAS NOT REVEALED TO HIM FOR SECURITY REASONS.\r\n",
        "\r\n",
        "\r\n",
        "THE (USD$25M) WAS PART OF A PROCEEDS FROM DIAMOND TRADE MEANT FOR THE LATE PRESIDENT LAURENT KABILA WHICH WAS DELIVERED THROUGH ZIMBABWE IN DIPLOMATIC BOXES. THE BOXES WERE KEPT UNDER MY CUSTODY BEFORE THE SAD EVENT THAT TOOK THE LIFE OF (MR. PRESIDENT).THE CONFUSION THAT ENSUED AFTER THE ASSASSINATION AND THE SPORADIC SHOOTING AMONG THE FACTIONS, I HAVE TO RUN AWAY FROM THE COUNTRY FOR MY DEAR LIFE AS I AM NOT A SOLDIER BUT A CIVIL SERVANT I CROSSED RIVER CONGO TO OTHER SIDE OF CONGO LIBREVILLE FROM THERE I MOVED TO THE THIRD COUNTRY GHANA WHERE I AM PRESENTLY TAKING REFUGE. \r\n",
        "\r\n",
        "AS A MATTER OF FACT, WHAT I URGENTLY NEEDED FROM YOU IS YOUR ASSISTANCE IN MOVING THIS MONEY INTO YOUR ACCOUNT IN YOUR COUNTRY FOR INVESTMENT WITHOUT RAISING EYEBROW. FOR YOUR ASSISTANCE I WILL GIVE YOU 20% OF THE TOTAL SUM AS YOUR OWN SHARE WHEN THE MONEY GETS TO YOUR ACCOUNT, WHILE 75% WILL BE FOR ME, OF WHICH WITH YOUR KIND ADVICE I HOPE TO INVEST IN PROFITABLE VENTURE IN YOUR COUNTRY IN OTHER TO SETTLE DOWN FOR MEANINGFUL LIFE, AS I AM TIRED OF LIVING IN A WAR ENVIRONMENT. \r\n",
        "\r\n",
        "THE REMAINING 5% WILL BE USED TO OFFSET ANY COST INCURRED IN THE CAUSE OF MOVING THE MONEY TO YOUR ACCOUNT. IF THE PROPOSAL IS ACCEPTABLE TO YOU PLEASE CONTACT ME IMMEDIATELY THROUGH THE ABOVE TELEPHONE AND E-MAIL, TO ENABLE ME ARRANGE FACE TO FACE MEETING WITH YOU IN GHANA FOR THE CLEARANCE OF THE FUNDS BEFORE TRANSFRING IT TO YOUR BANK ACCOUNT AS SEEING IS BELIEVING. \r\n",
        "\r\n",
        "FINALLY, IT IS IMPORTANT ALSO THAT I LET YOU UNDERSTAND THAT THERE IS NO RISK INVOLVED WHATSOEVER AS THE MONEY HAD NO RECORD IN KINSHASA FOR IT WAS MEANT FOR THE PERSONAL USE OF (MR. PRESIDEND ) BEFORE THE NEFARIOUS INCIDENT OCCURRED, AND ALSO I HAVE ALL THE NECESSARY DOCUMENTS AS REGARDS TO THE FUNDS INCLUDING THE (CERTIFICATE OF DEPOSIT), AS I AM THE DEPOSITOR OF THE CONSIGNMENT.\"\"\""
      ],
      "execution_count": 87,
      "outputs": []
    },
    {
      "cell_type": "code",
      "metadata": {
        "id": "pinV4a3YVrc9"
      },
      "source": [
        "encoded_review = tokenizer.encode_plus(\r\n",
        "  review_text,\r\n",
        "  max_length=MAX_LEN,\r\n",
        "  add_special_tokens=True,\r\n",
        "  return_token_type_ids=False,\r\n",
        "  pad_to_max_length=True,\r\n",
        "  return_attention_mask=True,\r\n",
        "  return_tensors='pt',\r\n",
        "  truncation=True\r\n",
        ")"
      ],
      "execution_count": 88,
      "outputs": []
    },
    {
      "cell_type": "code",
      "metadata": {
        "colab": {
          "base_uri": "https://localhost:8080/"
        },
        "id": "qDYDJIK7Vx81",
        "outputId": "0f31ea24-59d1-436f-d489-2f68b8f711d5"
      },
      "source": [
        "input_ids = encoded_review['input_ids'].to(device)\r\n",
        "attention_mask = encoded_review['attention_mask'].to(device)\r\n",
        "\r\n",
        "output = model(input_ids, attention_mask)\r\n",
        "_, prediction = torch.max(output, dim=1)\r\n",
        "\r\n",
        "print(f'Review text: {review_text}')\r\n",
        "print(f'Class  : {class_names[prediction]}')"
      ],
      "execution_count": 89,
      "outputs": [
        {
          "output_type": "stream",
          "text": [
            "Review text: DEAR FRIEND,\n",
            "\n",
            "I AM ( DR.) JAMES NGOLA, THE PERSONAL ASSISTANCE TO THE LATE CONGOLESE (PRESIDENT LAURENT KABILA) WHO WAS ASSASSINATED BY HIS BODY GUARD ON 16TH JAN. 2001.\n",
            "\n",
            "\n",
            "THE INCIDENT OCCURRED IN OUR PRESENCE WHILE WE WERE HOLDING MEETING WITH HIS EXCELLENCY OVER THE FINANCIAL RETURNS FROM THE DIAMOND SALES IN THE AREAS CONTROLLED BY (D.R.C.) DEMOCRATIC REPUBLIC OF CONGO FORCES AND THEIR FOREIGN ALLIES ANGOLA AND ZIMBABWE, HAVING RECEIVED THE PREVIOUS DAY (USD$100M) ONE HUNDRED MILLION UNITED STATES DOLLARS, CASH IN THREE DIPLOMATIC BOXES ROUTED THROUGH ZIMBABWE.\n",
            "\n",
            "MY PURPOSE OF WRITING YOU THIS LETTER IS TO SOLICIT FOR YOUR ASSISTANCE AS TO BE A COVER TO THE FUND AND ALSO COLLABORATION IN MOVING THE SAID FUND INTO YOUR BANK ACCOUNT THE SUM OF (USD$25M) TWENTY FIVE MILLION UNITED STATES DOLLARS ONLY, WHICH I DEPOSITED WITH A SECURITY COMPANY IN GHANA, IN A DIPLOMATIC BOX AS GOLDS WORTH (USD$25M) TWENTY FIVE MILLION UNITED STATES DOLLARS ONLY FOR SAFE KEEPING IN A SECURITY VAULT FOR ANY FURTHER INVESTMENT PERHAPS IN YOUR COUNTRY. \n",
            "\n",
            "YOU WERE INTRODUCED TO ME BY A RELIABLE FRIEND OF MINE WHO IS A TRAVELLER,AND ALSO A MEMBER OF CHAMBER OF COMMERCE AS A RELIABLE AND TRUSTWORTHY PERSON WHOM I CAN RELY ON AS FOREIGN PARTNER, EVEN THOUGH THE NATURE OF THE TRANSACTION WAS NOT REVEALED TO HIM FOR SECURITY REASONS.\n",
            "\n",
            "\n",
            "THE (USD$25M) WAS PART OF A PROCEEDS FROM DIAMOND TRADE MEANT FOR THE LATE PRESIDENT LAURENT KABILA WHICH WAS DELIVERED THROUGH ZIMBABWE IN DIPLOMATIC BOXES. THE BOXES WERE KEPT UNDER MY CUSTODY BEFORE THE SAD EVENT THAT TOOK THE LIFE OF (MR. PRESIDENT).THE CONFUSION THAT ENSUED AFTER THE ASSASSINATION AND THE SPORADIC SHOOTING AMONG THE FACTIONS, I HAVE TO RUN AWAY FROM THE COUNTRY FOR MY DEAR LIFE AS I AM NOT A SOLDIER BUT A CIVIL SERVANT I CROSSED RIVER CONGO TO OTHER SIDE OF CONGO LIBREVILLE FROM THERE I MOVED TO THE THIRD COUNTRY GHANA WHERE I AM PRESENTLY TAKING REFUGE. \n",
            "\n",
            "AS A MATTER OF FACT, WHAT I URGENTLY NEEDED FROM YOU IS YOUR ASSISTANCE IN MOVING THIS MONEY INTO YOUR ACCOUNT IN YOUR COUNTRY FOR INVESTMENT WITHOUT RAISING EYEBROW. FOR YOUR ASSISTANCE I WILL GIVE YOU 20% OF THE TOTAL SUM AS YOUR OWN SHARE WHEN THE MONEY GETS TO YOUR ACCOUNT, WHILE 75% WILL BE FOR ME, OF WHICH WITH YOUR KIND ADVICE I HOPE TO INVEST IN PROFITABLE VENTURE IN YOUR COUNTRY IN OTHER TO SETTLE DOWN FOR MEANINGFUL LIFE, AS I AM TIRED OF LIVING IN A WAR ENVIRONMENT. \n",
            "\n",
            "THE REMAINING 5% WILL BE USED TO OFFSET ANY COST INCURRED IN THE CAUSE OF MOVING THE MONEY TO YOUR ACCOUNT. IF THE PROPOSAL IS ACCEPTABLE TO YOU PLEASE CONTACT ME IMMEDIATELY THROUGH THE ABOVE TELEPHONE AND E-MAIL, TO ENABLE ME ARRANGE FACE TO FACE MEETING WITH YOU IN GHANA FOR THE CLEARANCE OF THE FUNDS BEFORE TRANSFRING IT TO YOUR BANK ACCOUNT AS SEEING IS BELIEVING. \n",
            "\n",
            "FINALLY, IT IS IMPORTANT ALSO THAT I LET YOU UNDERSTAND THAT THERE IS NO RISK INVOLVED WHATSOEVER AS THE MONEY HAD NO RECORD IN KINSHASA FOR IT WAS MEANT FOR THE PERSONAL USE OF (MR. PRESIDEND ) BEFORE THE NEFARIOUS INCIDENT OCCURRED, AND ALSO I HAVE ALL THE NECESSARY DOCUMENTS AS REGARDS TO THE FUNDS INCLUDING THE (CERTIFICATE OF DEPOSIT), AS I AM THE DEPOSITOR OF THE CONSIGNMENT.\n",
            "Class  : fraud\n"
          ],
          "name": "stdout"
        }
      ]
    },
    {
      "cell_type": "code",
      "metadata": {
        "id": "kZRQd1XnV8Wo",
        "colab": {
          "base_uri": "https://localhost:8080/"
        },
        "outputId": "4b2631a5-0280-4737-f6c7-e8d7bf3739d1"
      },
      "source": [
        "!ls -l"
      ],
      "execution_count": 83,
      "outputs": [
        {
          "output_type": "stream",
          "text": [
            "total 438760\n",
            "-rw-r--r-- 1 root root 433330509 Jan 14 01:50 best_model_state.bin\n",
            "-rw-r--r-- 1 root root      7733 Jan 14 00:45 download\n",
            "-rw-r--r-- 1 root root  15940304 Oct  2  2019 fraud_email_.csv\n",
            "drwxr-xr-x 1 root root      4096 Jan  6 18:10 sample_data\n"
          ],
          "name": "stdout"
        }
      ]
    },
    {
      "cell_type": "code",
      "metadata": {
        "id": "sGpuF7dXf_wk",
        "colab": {
          "base_uri": "https://localhost:8080/"
        },
        "outputId": "5f918253-cc38-414f-fa8b-339c77660975"
      },
      "source": [
        "# 取得google drive存取權限\r\n",
        "from google.colab import drive\r\n",
        "drive.mount('/content/drive', force_remount=True)"
      ],
      "execution_count": 84,
      "outputs": [
        {
          "output_type": "stream",
          "text": [
            "Mounted at /content/drive\n"
          ],
          "name": "stdout"
        }
      ]
    },
    {
      "cell_type": "code",
      "metadata": {
        "id": "uJuYj1VCgI4_",
        "colab": {
          "base_uri": "https://localhost:8080/"
        },
        "outputId": "9ea64683-3d45-4b01-907d-548dbba80929"
      },
      "source": [
        "!ls -l /content/drive/MyDrive/中興大學/普及資料實驗室/"
      ],
      "execution_count": 85,
      "outputs": [
        {
          "output_type": "stream",
          "text": [
            "total 20\n",
            "drwx------ 2 root root 4096 Jan 14 02:01  Fraud_Email_Analysis_with_Bert\n",
            "drwx------ 2 root root 4096 Sep 11 01:15  SemEval-2021\n",
            "drwx------ 2 root root 4096 Jan 13 11:31  Sentiment_Analysis_with_Bert\n",
            "drwx------ 2 root root 4096 Jul 17 08:20  實驗室行政文件\n",
            "drwx------ 2 root root 4096 Jul 17 08:20 '技術文件 教育訓練'\n"
          ],
          "name": "stdout"
        }
      ]
    },
    {
      "cell_type": "code",
      "metadata": {
        "id": "Twr4cI1cgIGG"
      },
      "source": [
        "!cp best_model_state.bin /content/drive/MyDrive/中興大學/普及資料實驗室/Fraud_Email_Analysis_with_Bert/"
      ],
      "execution_count": 86,
      "outputs": []
    }
  ]
}